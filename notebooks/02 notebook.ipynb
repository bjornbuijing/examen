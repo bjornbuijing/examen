{
 "cells": [
  {
   "cell_type": "code",
   "execution_count": 1,
   "metadata": {},
   "outputs": [],
   "source": [
    "import sys\n",
    "\n",
    "sys.path.insert(0, \"..\")\n",
    "from src.settings import StyleSettings\n",
    "from src.data.data_tools import StyleDataset\n",
    "import numpy as np\n",
    "import seaborn as sns\n"
   ]
  },
  {
   "cell_type": "code",
   "execution_count": null,
   "metadata": {},
   "outputs": [],
   "source": []
  },
  {
   "cell_type": "markdown",
   "metadata": {},
   "source": [
    "# Load the data"
   ]
  },
  {
   "cell_type": "code",
   "execution_count": 2,
   "metadata": {},
   "outputs": [],
   "source": [
    "settings = StyleSettings()\n",
    "traindataset = StyleDataset([settings.trainpath])\n",
    "testdataset = StyleDataset([settings.testpath])\n"
   ]
  },
  {
   "cell_type": "markdown",
   "metadata": {},
   "source": [
    "We have 419 batches in the dataset"
   ]
  },
  {
   "cell_type": "code",
   "execution_count": 3,
   "metadata": {},
   "outputs": [
    {
     "data": {
      "text/plain": [
       "419"
      ]
     },
     "execution_count": 3,
     "metadata": {},
     "output_type": "execute_result"
    }
   ],
   "source": [
    "len(traindataset) // 32\n"
   ]
  },
  {
   "cell_type": "code",
   "execution_count": 4,
   "metadata": {},
   "outputs": [
    {
     "data": {
      "text/plain": [
       "('Lace is an openwork fabric , patterned with open holes in the work , made by machine or by hand.',\n",
       " 'wiki')"
      ]
     },
     "execution_count": 4,
     "metadata": {},
     "output_type": "execute_result"
    }
   ],
   "source": [
    "x, y = traindataset[42]\n",
    "x, y\n"
   ]
  },
  {
   "cell_type": "markdown",
   "metadata": {},
   "source": [
    "Every batch is a `Tuple[str, str]` of a sentence and a label. We can see this is a classification task.\n",
    "The task is, to classify sentences in four categories.\n",
    "Lets build a vocabulary by copy-pasting the code we used before"
   ]
  },
  {
   "cell_type": "code",
   "execution_count": 5,
   "metadata": {},
   "outputs": [
    {
     "name": "stderr",
     "output_type": "stream",
     "text": [
      "2022-06-22 12:15:57.782 | INFO     | src.models.tokenizer:build_vocab:27 - Found 19306 tokens\n"
     ]
    },
    {
     "data": {
      "text/plain": [
       "19308"
      ]
     },
     "execution_count": 5,
     "metadata": {},
     "output_type": "execute_result"
    }
   ],
   "source": [
    "from src.models import tokenizer\n",
    "\n",
    "corpus = []\n",
    "for i in range(len(traindataset)):\n",
    "    x = tokenizer.clean(traindataset[i][0])\n",
    "    corpus.append(x)\n",
    "v = tokenizer.build_vocab(corpus, max=20000)\n",
    "len(v)\n"
   ]
  },
  {
   "cell_type": "markdown",
   "metadata": {},
   "source": [
    "We need to cast the labels to an integers. You can use this dictionary to do so:"
   ]
  },
  {
   "cell_type": "code",
   "execution_count": 6,
   "metadata": {},
   "outputs": [
    {
     "data": {
      "text/plain": [
       "2"
      ]
     },
     "execution_count": 6,
     "metadata": {},
     "output_type": "execute_result"
    }
   ],
   "source": [
    "d = {\"humor\": 0, \"reuters\": 1, \"wiki\": 2, \"proverbs\": 3}\n",
    "d[y]\n"
   ]
  },
  {
   "cell_type": "markdown",
   "metadata": {},
   "source": [
    "# Question 1\n",
    "Figure out, for every class, what accuracy you should expect if the model would guess blind on the train set"
   ]
  },
  {
   "cell_type": "code",
   "execution_count": 23,
   "metadata": {},
   "outputs": [],
   "source": [
    "# TODO ~ about 4 lines of code\n",
    "\n",
    "#accuracy = metrics.Accuracy()\n",
    "#accuracy(y, yhat)\n",
    "\n"
   ]
  },
  {
   "cell_type": "markdown",
   "metadata": {},
   "source": [
    "Reflect on what you see. What does this mean? What implications does this have? Why is that good/bad?\n",
    "Are there things down the line that could cause a problem?"
   ]
  },
  {
   "cell_type": "markdown",
   "metadata": {},
   "source": [
    "# Question 2 : Implement a preprocessor\n",
    "\n",
    "We can inherit from `tokenizer.Preprocessor`\n",
    "Only thing we need to adjust is the `cast_label` function.\n",
    " \n",
    "- create a StylePreprocessor class\n",
    "- inherit from Preprocessor\n",
    "- create a new cast_label function for this dataset"
   ]
  },
  {
   "cell_type": "code",
   "execution_count": 7,
   "metadata": {},
   "outputs": [],
   "source": [
    "\n",
    "# TODO ~ about 4 lines of code\n",
    "class StylePreprocessor(tokenizer.Preprocessor):\n",
    "    def cast_label(self, label: str) -> int:\n",
    "        d = {\"humor\": 0, \"reuters\": 1, \"wiki\": 2, \"proverbs\": 3}\n",
    "        return d[label]\n",
    "    pass\n"
   ]
  },
  {
   "cell_type": "markdown",
   "metadata": {},
   "source": [
    "To test the preprocessor:"
   ]
  },
  {
   "cell_type": "code",
   "execution_count": 8,
   "metadata": {},
   "outputs": [
    {
     "data": {
      "text/plain": [
       "(tensor([[4929,  854,   32,   15,  499,   21, 8496,  890]], dtype=torch.int32),\n",
       " tensor([2]))"
      ]
     },
     "execution_count": 8,
     "metadata": {},
     "output_type": "execute_result"
    }
   ],
   "source": [
    "preprocessor = StylePreprocessor(max=100, vocab=v, clean=tokenizer.clean)\n",
    "preprocessor([(x, y)])\n"
   ]
  },
  {
   "cell_type": "markdown",
   "metadata": {},
   "source": [
    "# Set up the model\n",
    "We can re-use the BaseDatastreamer"
   ]
  },
  {
   "cell_type": "code",
   "execution_count": 9,
   "metadata": {},
   "outputs": [],
   "source": [
    "from src.data import data_tools\n",
    "\n",
    "trainstreamer = data_tools.BaseDatastreamer(\n",
    "    dataset=traindataset, batchsize=32, preprocessor=preprocessor\n",
    ").stream()\n",
    "teststreamer = data_tools.BaseDatastreamer(\n",
    "    dataset=testdataset, batchsize=32, preprocessor=preprocessor\n",
    ").stream()\n"
   ]
  },
  {
   "cell_type": "code",
   "execution_count": 10,
   "metadata": {},
   "outputs": [
    {
     "data": {
      "text/plain": [
       "(torch.Size([32, 30]),\n",
       " tensor([1, 2, 1, 2, 2, 2, 1, 1, 0, 0, 2, 0, 3, 2, 0, 0, 1, 0, 1, 2, 2, 2, 2, 2,\n",
       "         0, 2, 0, 0, 2, 1, 1, 2]))"
      ]
     },
     "execution_count": 10,
     "metadata": {},
     "output_type": "execute_result"
    }
   ],
   "source": [
    "x, y = next(trainstreamer)\n",
    "x.shape, y\n"
   ]
  },
  {
   "cell_type": "markdown",
   "metadata": {},
   "source": [
    "## Question 3 : Metrics, loss\n",
    "Select proper metrics and a loss function.\n",
    "\n",
    "Bonus: implement an additional metric function that is relevant for this case."
   ]
  },
  {
   "cell_type": "code",
   "execution_count": 28,
   "metadata": {},
   "outputs": [],
   "source": [
    "from src.models import metrics\n",
    "import torch\n",
    "# TODO ~ 2 lines of code\n",
    "\n",
    "metrics = metrics.Accuracy()\n",
    "loss_fn = torch.nn.CrossEntropyLoss()\n"
   ]
  },
  {
   "cell_type": "markdown",
   "metadata": {},
   "source": [
    "## Question 4 : Basemodel\n",
    "Create a base model. It does not need to be naive; you could re-use the\n",
    "NLP models we used for the IMDB.\n",
    "\n",
    "I suggest to start with a hidden size of about 128.\n",
    "Use a config dictionary, or a gin file, both are fine.\n",
    "\n",
    "Bonus points if you create a Trax model in src.models, and even more if you add a trax training loop."
   ]
  },
  {
   "cell_type": "code",
   "execution_count": 29,
   "metadata": {},
   "outputs": [],
   "source": [
    "log_dir = settings.log_dir\n",
    "# TODO between 2 and 8 lines of code, depending on your setup\n",
    "# Assuming you load your model in one line of code from src.models.rnn\n",
    "from src.models import rnn\n",
    "\n",
    "config = {\n",
    "    \"vocab\": len(v),\n",
    "    \"hidden_size\": 128,\n",
    "    \"num_layers\": 2,\n",
    "    \"dropout\": 0.1,\n",
    "    \"output_size\": 4,\n",
    "}\n",
    "\n",
    "model = rnn.NLPmodel(config)"
   ]
  },
  {
   "cell_type": "markdown",
   "metadata": {},
   "source": [
    "Set up the trainloop.\n",
    "\n",
    "- Give the lenght of the traindataset, how many batches of 32 can you get out of it?\n",
    "- If you take a short amount of train_steps (eg 25) for every epoch, how many epochs do you need to cover the complete dataset?\n",
    "- What amount of epochs do you need to run the loop with trainsteps=25 to cover the complete traindataset once? \n",
    "- answer the questions above, and pick a reasonable epoch lenght\n",
    "\n",
    "Start with a default learning_rate of 1e-3 and an Adam optimizer."
   ]
  },
  {
   "cell_type": "code",
   "execution_count": 30,
   "metadata": {},
   "outputs": [
    {
     "ename": "IndentationError",
     "evalue": "unexpected indent (2171242674.py, line 4)",
     "output_type": "error",
     "traceback": [
      "\u001b[0;36m  Input \u001b[0;32mIn [30]\u001b[0;36m\u001b[0m\n\u001b[0;31m    epochs=1,\u001b[0m\n\u001b[0m    ^\u001b[0m\n\u001b[0;31mIndentationError\u001b[0m\u001b[0;31m:\u001b[0m unexpected indent\n"
     ]
    }
   ],
   "source": [
    "from src.training import train_model\n",
    "\n",
    "#model = train_model.trainloop(\n",
    "    epochs=1,\n",
    "    model=model,\n",
    "    metrics=[metrics],\n",
    "    optimizer=torch.optim.Adam,\n",
    "    learning_rate=1e-3,\n",
    "    loss_fn=loss_fn,\n",
    "    train_dataloader=trainstreamer,\n",
    "    test_dataloader=teststreamer,\n",
    "    log_dir=log_dir,\n",
    "    train_steps=25,\n",
    "    eval_steps=25,\n",
    ")\n"
   ]
  },
  {
   "cell_type": "markdown",
   "metadata": {},
   "source": [
    "Save an image from the training in tensorboard in the `figures` folder.\n",
    "Explain what you are seeing."
   ]
  },
  {
   "cell_type": "markdown",
   "metadata": {},
   "source": [
    "your explanation here"
   ]
  },
  {
   "cell_type": "markdown",
   "metadata": {},
   "source": [
    "# 5 Evaluate the basemodel\n",
    "Create a confusion matrix with the code below"
   ]
  },
  {
   "cell_type": "code",
   "execution_count": 31,
   "metadata": {},
   "outputs": [
    {
     "data": {
      "text/plain": [
       "[Text(0.5, 15.0, 'Predicted'), Text(33.0, 0.5, 'Target')]"
      ]
     },
     "execution_count": 31,
     "metadata": {},
     "output_type": "execute_result"
    },
    {
     "data": {
      "image/png": "[encoded data removed]",
      "text/plain": [
       "<Figure size 432x288 with 2 Axes>"
      ]
     },
     "metadata": {
      "needs_background": "light"
     },
     "output_type": "display_data"
    }
   ],
   "source": [
    "from sklearn.metrics import confusion_matrix\n",
    "\n",
    "y_true = []\n",
    "y_pred = []\n",
    "\n",
    "for _ in range(10):\n",
    "    X, y = next(teststreamer)\n",
    "    yhat = model(X)\n",
    "    yhat = yhat.argmax(dim=1)\n",
    "    y_pred.append(yhat.tolist())\n",
    "    y_true.append(y.tolist())\n",
    "\n",
    "yhat = [x for y in y_pred for x in y]\n",
    "y = [x for y in y_true for x in y]\n",
    "\n",
    "cfm = confusion_matrix(y, yhat)\n",
    "cfm_norm = cfm / np.sum(cfm, axis=1, keepdims=True)\n",
    "plot = sns.heatmap(cfm_norm, annot=cfm_norm, fmt=\".3f\")\n",
    "plot.set(xlabel=\"Predicted\", ylabel=\"Target\")\n"
   ]
  },
  {
   "cell_type": "markdown",
   "metadata": {},
   "source": [
    "Save this in the figures folder.\n",
    "Interpret this. \n",
    "\n",
    "- What is going on?\n",
    "- What is a good metric here?\n",
    "- how is your answer to Q1 relevant here?\n",
    "- Is there something you could do to fix/improve things, after you see these results?"
   ]
  },
  {
   "cell_type": "markdown",
   "metadata": {},
   "source": [
    "# 6 Tune the model\n",
    "Don't overdo this.\n",
    "More is not better.\n",
    "\n",
    "Bonus points for things like:\n",
    "- Attention layers\n",
    "- Trax architecture including a functioning training loop\n",
    "\n",
    "Keep it small! It's better to present 2 or 3 sane experiments that are structured and thought trough, than 25 random guesses. You can test more, but select 2 or 3 of the best alternatives you researched, with a rationale why this works better.\n",
    "\n",
    "Keep it concise; explain:\n",
    "- what you changed\n",
    "- why you thought that was a good idea  \n",
    "- what the impact was (visualise or numeric)\n",
    "- explain the impact\n",
    "\n",
    "You dont need to get a perfect score; curiousity driven research that fails is fine.\n",
    "The insight into what is happening is more important than the quantity.\n",
    "\n",
    "Keep logs of your settings;\n",
    "either use gin, or save configs, or both :)\n",
    "Store images in the `figures` folder."
   ]
  },
  {
   "cell_type": "code",
   "execution_count": null,
   "metadata": {},
   "outputs": [],
   "source": [
    "We choose to implement the model in Traxx and the first assumption we made is that to detect humor at least some knowledge of a setup is needed for a punchline.\n",
    "We "
   ]
  },
  {
   "cell_type": "code",
   "execution_count": 11,
   "metadata": {},
   "outputs": [
    {
     "name": "stderr",
     "output_type": "stream",
     "text": [
      "2022-06-22 12:18:59.922082: W tensorflow/stream_executor/platform/default/dso_loader.cc:64] Could not load dynamic library 'libcudart.so.11.0'; dlerror: libcudart.so.11.0: cannot open shared object file: No such file or directory\n",
      "WARNING:absl:No GPU/TPU found, falling back to CPU. (Set TF_CPP_MIN_LOG_LEVEL=0 and rerun for more info.)\n"
     ]
    },
    {
     "data": {
      "text/plain": [
       "[<matplotlib.lines.Line2D at 0x7f39645a6bb0>]"
      ]
     },
     "execution_count": 11,
     "metadata": {},
     "output_type": "execute_result"
    }
   ],
   "source": [
    "import matplotlib.pyplot as plt\n",
    "import jax.numpy as jnp\n",
    "import trax\n",
    "from trax.supervised.lr_schedules import warmup_and_rsqrt_decay\n",
    "from trax.layers.assert_shape import assert_shape\n",
    "from trax.layers import combinators as cb\n",
    "from trax.shapes import signature\n",
    "from trax import layers as tl\n",
    "from typing import Dict\n",
    "\n",
    "# implement a learning rate scheduler\n",
    "lr = warmup_and_rsqrt_decay(100, 0.01)\n",
    "steps = jnp.arange(1200)\n",
    "y = [lr(x) for x in steps]\n",
    "plt.plot(steps, y)\n",
    "\n"
   ]
  },
  {
   "cell_type": "code",
   "execution_count": 14,
   "metadata": {},
   "outputs": [],
   "source": [
    "def Cast():\n",
    "    def f(generator):\n",
    "        for x, y in generator:\n",
    "            yield x.numpy(), y.numpy()\n",
    "\n",
    "    return lambda g: f(g)"
   ]
  },
  {
   "cell_type": "code",
   "execution_count": 15,
   "metadata": {},
   "outputs": [],
   "source": [
    "data_pipeline = trax.data.Serial(Cast())\n",
    "trainpipe = data_pipeline(trainstreamer)\n",
    "testpipe = data_pipeline(teststreamer)"
   ]
  },
  {
   "cell_type": "code",
   "execution_count": 16,
   "metadata": {},
   "outputs": [
    {
     "data": {
      "text/plain": [
       "(numpy.ndarray, numpy.ndarray)"
      ]
     },
     "execution_count": 16,
     "metadata": {},
     "output_type": "execute_result"
    }
   ],
   "source": [
    "X, y = next(trainpipe)\n",
    "type(X), type(y)\n"
   ]
  },
  {
   "cell_type": "code",
   "execution_count": 17,
   "metadata": {},
   "outputs": [],
   "source": [
    "config = {\n",
    "    \"vocab\": len(v),\n",
    "    \"hidden_size\": 128,\n",
    "    \"features\": 50,\n",
    "    \"output_size\": 4,\n",
    "}\n"
   ]
  },
  {
   "cell_type": "code",
   "execution_count": 45,
   "metadata": {},
   "outputs": [],
   "source": [
    "def createCustModel(config: Dict):\n",
    "    model = tl.Serial(\n",
    "        tl.Embedding(vocab_size=config[\"vocab\"], d_feature=config[\"hidden_size\"]), #MAP to vectors\n",
    "        tl.GRU(n_units=config[\"hidden_size\"]),  #  use a gated layer to remember words from the beginning of a text to 'understand the story'\n",
    "        tl.Mean(axis=1), #  take mean values of groups of words, hopefully this generalizing will fix the overfitting we found in the last question\n",
    "        tl.Dense(config[\"output_size\"]))\n",
    "    return model\n",
    "model = createCustModel(config)"
   ]
  },
  {
   "cell_type": "code",
   "execution_count": 122,
   "metadata": {},
   "outputs": [],
   "source": [
    "#model = tl.Serial(\n",
    "#    tl.Embedding(vocab_size=8192, d_feature=50),\n",
    "#    tl.Mean(axis=1),\n",
    "#    tl.Dense(4),\n",
    "#    tl.LogSoftmax()\n",
    "#)"
   ]
  },
  {
   "cell_type": "code",
   "execution_count": 46,
   "metadata": {},
   "outputs": [
    {
     "data": {
      "text/plain": [
       "DeviceArray([[ 8.9167571e-04, -2.9031213e-03,  4.4989567e-03,\n",
       "              -1.5046613e-03],\n",
       "             [ 4.9375817e-03, -1.9493377e-03,  1.5616132e-03,\n",
       "               8.0077525e-04],\n",
       "             [ 5.3910310e-03, -6.3914334e-04, -3.6060996e-05,\n",
       "               7.2226493e-04],\n",
       "             [ 8.9313099e-03,  6.0808491e-03, -2.6346734e-03,\n",
       "               6.4822086e-03],\n",
       "             [ 2.4499854e-03,  3.5611228e-03, -2.0783858e-03,\n",
       "              -8.9826045e-04],\n",
       "             [ 4.1505257e-03,  3.1240055e-04,  3.8402854e-03,\n",
       "              -1.3981961e-03],\n",
       "             [ 4.4369786e-03,  4.3334807e-03, -8.8489935e-04,\n",
       "               1.0776188e-03],\n",
       "             [ 3.8776458e-03,  1.4576141e-03, -1.9743594e-03,\n",
       "              -5.0967955e-04],\n",
       "             [ 1.5659629e-03, -3.2096155e-04,  2.9760741e-03,\n",
       "              -4.2355489e-03],\n",
       "             [-1.1567031e-03,  1.9617523e-03,  1.8602348e-03,\n",
       "              -1.8454865e-03],\n",
       "             [ 6.0620806e-03,  4.4181626e-03, -2.3123438e-03,\n",
       "               2.6680653e-03],\n",
       "             [ 4.0861634e-03,  2.8754852e-03, -2.5532544e-03,\n",
       "               2.1381369e-03],\n",
       "             [ 8.2038675e-04,  2.2998967e-03,  3.6031012e-03,\n",
       "              -1.9197137e-03],\n",
       "             [ 3.9761057e-03, -2.8753909e-04,  2.5105579e-03,\n",
       "               1.2910147e-03],\n",
       "             [ 5.3183860e-03,  9.3908771e-04, -1.3141267e-03,\n",
       "               2.1038481e-03],\n",
       "             [ 7.7705341e-03,  4.6830154e-03, -4.2516077e-03,\n",
       "               4.9865982e-03],\n",
       "             [-5.5869576e-05,  2.4715494e-04,  1.9031817e-03,\n",
       "               1.5741624e-03],\n",
       "             [ 4.2552003e-03,  3.7863802e-03, -1.0880318e-03,\n",
       "               9.7340631e-04],\n",
       "             [ 5.6974641e-03,  3.1615179e-03, -1.8951260e-03,\n",
       "               2.0341526e-03],\n",
       "             [-8.0543815e-04,  2.6222569e-04, -1.1782494e-03,\n",
       "               1.5996688e-03],\n",
       "             [ 7.0859659e-03,  3.7847001e-03, -2.0464614e-03,\n",
       "               1.7584626e-03],\n",
       "             [ 2.9063912e-03,  3.5101266e-03, -1.9574154e-03,\n",
       "               3.1547055e-03],\n",
       "             [ 4.5989929e-03,  1.8534674e-03,  9.5397281e-04,\n",
       "               2.2946137e-03],\n",
       "             [ 8.7421853e-03,  6.2755784e-03, -2.0734754e-03,\n",
       "               5.8024465e-03],\n",
       "             [ 5.5428818e-03,  4.1612037e-03, -2.0735818e-03,\n",
       "               4.6067997e-03],\n",
       "             [ 1.5809488e-03,  2.7550284e-03, -2.1813018e-03,\n",
       "               3.2785838e-03],\n",
       "             [-8.5743138e-04,  1.8185436e-03,  3.8754519e-03,\n",
       "              -6.5936788e-04],\n",
       "             [-9.0005941e-04,  1.7693028e-03, -1.5983434e-03,\n",
       "              -8.9963921e-04],\n",
       "             [ 7.7040927e-03,  5.3741448e-03, -1.2006389e-03,\n",
       "               1.8664942e-03],\n",
       "             [ 2.4620036e-03,  1.9033839e-03,  2.8491017e-04,\n",
       "               1.5947707e-03],\n",
       "             [ 2.6798057e-03, -1.6892127e-04, -1.7818025e-03,\n",
       "               1.4191869e-03],\n",
       "             [-3.7209333e-03,  1.0772418e-03,  2.5805502e-04,\n",
       "               1.4257304e-03]], dtype=float32)"
      ]
     },
     "execution_count": 46,
     "metadata": {},
     "output_type": "execute_result"
    }
   ],
   "source": [
    "\n",
    "from src.models.traxmodel import summary\n",
    "model.init_weights_and_state(signature(X))\n",
    "# let's test a single prediction\n",
    "ytest = model(X)\n",
    "ytest"
   ]
  },
  {
   "cell_type": "code",
   "execution_count": 47,
   "metadata": {},
   "outputs": [
    {
     "name": "stderr",
     "output_type": "stream",
     "text": [
      "2022-06-22 12:48:47.587 | INFO     | src.data.data_tools:dir_add_timestamp:68 - Logging to ../tune/20220622-1248\n",
      "/home/mladmin/.cache/pypoetry/virtualenvs/exam-22-AI0Wnuoo-py3.9/lib/python3.9/site-packages/jax/_src/lib/xla_bridge.py:514: UserWarning: jax.host_count has been renamed to jax.process_count. This alias will eventually be removed; please update your code.\n",
      "  warnings.warn(\n"
     ]
    }
   ],
   "source": [
    "from trax.supervised import training\n",
    "import trax\n",
    "from trax import layers as tl\n",
    "from trax.layers import combinators as cb\n",
    "from trax.layers.assert_shape import assert_shape\n",
    "\n",
    "log_dir = \"../tune\"\n",
    "log_dir = data_tools.dir_add_timestamp(log_dir)\n",
    "\n",
    "train_task = training.TrainTask(\n",
    "    labeled_data=trainpipe,\n",
    "    loss_layer=tl.CategoryCrossEntropy(),\n",
    "    optimizer=trax.optimizers.Adam(),\n",
    "    lr_schedule=lr,\n",
    "    n_steps_per_checkpoint=100, \n",
    ")\n",
    "\n",
    "eval_task = training.EvalTask(\n",
    "    labeled_data=testpipe, metrics=[tl.CategoryAccuracy(), tl.CategoryCrossEntropy()], n_eval_batches=25\n",
    ")\n",
    "\n",
    "loop = training.Loop(\n",
    "    model,\n",
    "    train_task,\n",
    "    eval_tasks=[eval_task],\n",
    "    output_dir=log_dir,\n",
    ")"
   ]
  },
  {
   "cell_type": "code",
   "execution_count": 49,
   "metadata": {},
   "outputs": [
    {
     "name": "stderr",
     "output_type": "stream",
     "text": [
      "/home/mladmin/.cache/pypoetry/virtualenvs/exam-22-AI0Wnuoo-py3.9/lib/python3.9/site-packages/trax/layers/base.py:851: FutureWarning: GzipFile was opened for writing, but this will change in future Python releases.  Specify the mode argument for opening it for writing.\n",
      "  with gzip.GzipFile(fileobj=f, compresslevel=compresslevel) as gzipf:\n"
     ]
    },
    {
     "name": "stdout",
     "output_type": "stream",
     "text": [
      "\n",
      "Step    600: Ran 100 train steps in 10.06 secs\n",
      "Step    600: train CategoryCrossEntropy |  0.16650179\n",
      "Step    600: eval      CategoryAccuracy |  0.93875000\n",
      "Step    600: eval  CategoryCrossEntropy |  0.18141866\n"
     ]
    },
    {
     "name": "stderr",
     "output_type": "stream",
     "text": [
      "/home/mladmin/.cache/pypoetry/virtualenvs/exam-22-AI0Wnuoo-py3.9/lib/python3.9/site-packages/trax/supervised/training.py:1249: FutureWarning: GzipFile was opened for writing, but this will change in future Python releases.  Specify the mode argument for opening it for writing.\n",
      "  with gzip_lib.GzipFile(fileobj=f, compresslevel=2) as gzipf:\n"
     ]
    },
    {
     "name": "stdout",
     "output_type": "stream",
     "text": [
      "\n",
      "Step    700: Ran 100 train steps in 5.00 secs\n",
      "Step    700: train CategoryCrossEntropy |  0.13474983\n",
      "Step    700: eval      CategoryAccuracy |  0.92500000\n",
      "Step    700: eval  CategoryCrossEntropy |  0.21242491\n",
      "\n",
      "Step    800: Ran 100 train steps in 4.89 secs\n",
      "Step    800: train CategoryCrossEntropy |  0.04282391\n",
      "Step    800: eval      CategoryAccuracy |  0.93375000\n",
      "Step    800: eval  CategoryCrossEntropy |  0.21865488\n",
      "\n",
      "Step    900: Ran 100 train steps in 4.78 secs\n",
      "Step    900: train CategoryCrossEntropy |  0.04476035\n",
      "Step    900: eval      CategoryAccuracy |  0.93125000\n",
      "Step    900: eval  CategoryCrossEntropy |  0.19647838\n",
      "\n",
      "Step   1000: Ran 100 train steps in 6.27 secs\n",
      "Step   1000: train CategoryCrossEntropy |  0.03733282\n",
      "Step   1000: eval      CategoryAccuracy |  0.90125000\n",
      "Step   1000: eval  CategoryCrossEntropy |  0.30752761\n",
      "\n",
      "Step   1100: Ran 100 train steps in 4.86 secs\n",
      "Step   1100: train CategoryCrossEntropy |  0.03040618\n",
      "Step   1100: eval      CategoryAccuracy |  0.93625000\n",
      "Step   1100: eval  CategoryCrossEntropy |  0.22081966\n",
      "\n",
      "Step   1200: Ran 100 train steps in 4.89 secs\n",
      "Step   1200: train CategoryCrossEntropy |  0.01063558\n",
      "Step   1200: eval      CategoryAccuracy |  0.90875000\n",
      "Step   1200: eval  CategoryCrossEntropy |  0.36474538\n",
      "\n",
      "Step   1300: Ran 100 train steps in 4.92 secs\n",
      "Step   1300: train CategoryCrossEntropy |  0.01278076\n",
      "Step   1300: eval      CategoryAccuracy |  0.91625000\n",
      "Step   1300: eval  CategoryCrossEntropy |  0.30018546\n",
      "\n",
      "Step   1400: Ran 100 train steps in 4.80 secs\n",
      "Step   1400: train CategoryCrossEntropy |  0.00822350\n",
      "Step   1400: eval      CategoryAccuracy |  0.91875000\n",
      "Step   1400: eval  CategoryCrossEntropy |  0.30724822\n",
      "\n",
      "Step   1500: Ran 100 train steps in 4.95 secs\n",
      "Step   1500: train CategoryCrossEntropy |  0.00803160\n",
      "Step   1500: eval      CategoryAccuracy |  0.93250000\n",
      "Step   1500: eval  CategoryCrossEntropy |  0.28024100\n",
      "\n",
      "Step   1600: Ran 100 train steps in 4.90 secs\n",
      "Step   1600: train CategoryCrossEntropy |  0.00586956\n",
      "Step   1600: eval      CategoryAccuracy |  0.93625000\n",
      "Step   1600: eval  CategoryCrossEntropy |  0.22395189\n",
      "\n",
      "Step   1700: Ran 100 train steps in 5.20 secs\n",
      "Step   1700: train CategoryCrossEntropy |  0.00303289\n",
      "Step   1700: eval      CategoryAccuracy |  0.92125000\n",
      "Step   1700: eval  CategoryCrossEntropy |  0.32909739\n",
      "\n",
      "Step   1800: Ran 100 train steps in 4.93 secs\n",
      "Step   1800: train CategoryCrossEntropy |  0.00333607\n",
      "Step   1800: eval      CategoryAccuracy |  0.92625000\n",
      "Step   1800: eval  CategoryCrossEntropy |  0.38354592\n",
      "\n",
      "Step   1900: Ran 100 train steps in 4.79 secs\n",
      "Step   1900: train CategoryCrossEntropy |  0.00602746\n",
      "Step   1900: eval      CategoryAccuracy |  0.91625000\n",
      "Step   1900: eval  CategoryCrossEntropy |  0.30305503\n",
      "\n",
      "Step   2000: Ran 100 train steps in 4.95 secs\n",
      "Step   2000: train CategoryCrossEntropy |  0.00118450\n",
      "Step   2000: eval      CategoryAccuracy |  0.91750000\n",
      "Step   2000: eval  CategoryCrossEntropy |  0.36044455\n",
      "\n",
      "Step   2100: Ran 100 train steps in 6.24 secs\n",
      "Step   2100: train CategoryCrossEntropy |  0.00119637\n",
      "Step   2100: eval      CategoryAccuracy |  0.92750000\n",
      "Step   2100: eval  CategoryCrossEntropy |  0.38089133\n",
      "\n",
      "Step   2200: Ran 100 train steps in 4.96 secs\n",
      "Step   2200: train CategoryCrossEntropy |  0.00263502\n",
      "Step   2200: eval      CategoryAccuracy |  0.91375000\n",
      "Step   2200: eval  CategoryCrossEntropy |  0.41760029\n",
      "\n",
      "Step   2300: Ran 100 train steps in 4.86 secs\n",
      "Step   2300: train CategoryCrossEntropy |  0.00116840\n",
      "Step   2300: eval      CategoryAccuracy |  0.91375000\n",
      "Step   2300: eval  CategoryCrossEntropy |  0.34720897\n",
      "\n",
      "Step   2400: Ran 100 train steps in 4.95 secs\n",
      "Step   2400: train CategoryCrossEntropy |  0.00046588\n",
      "Step   2400: eval      CategoryAccuracy |  0.93000000\n",
      "Step   2400: eval  CategoryCrossEntropy |  0.31969629\n",
      "\n",
      "Step   2500: Ran 100 train steps in 4.88 secs\n",
      "Step   2500: train CategoryCrossEntropy |  0.00026764\n",
      "Step   2500: eval      CategoryAccuracy |  0.93000000\n",
      "Step   2500: eval  CategoryCrossEntropy |  0.31225001\n",
      "\n",
      "Step   2600: Ran 100 train steps in 4.92 secs\n",
      "Step   2600: train CategoryCrossEntropy |  0.00019028\n",
      "Step   2600: eval      CategoryAccuracy |  0.90750000\n",
      "Step   2600: eval  CategoryCrossEntropy |  0.52453402\n",
      "\n",
      "Step   2700: Ran 100 train steps in 4.95 secs\n",
      "Step   2700: train CategoryCrossEntropy |  0.00028901\n",
      "Step   2700: eval      CategoryAccuracy |  0.92500000\n",
      "Step   2700: eval  CategoryCrossEntropy |  0.38707036\n",
      "\n",
      "Step   2800: Ran 100 train steps in 4.84 secs\n",
      "Step   2800: train CategoryCrossEntropy |  0.00019330\n",
      "Step   2800: eval      CategoryAccuracy |  0.92625000\n",
      "Step   2800: eval  CategoryCrossEntropy |  0.37455716\n",
      "\n",
      "Step   2900: Ran 100 train steps in 4.82 secs\n",
      "Step   2900: train CategoryCrossEntropy |  0.00009451\n",
      "Step   2900: eval      CategoryAccuracy |  0.91875000\n",
      "Step   2900: eval  CategoryCrossEntropy |  0.43534803\n",
      "\n",
      "Step   3000: Ran 100 train steps in 4.92 secs\n",
      "Step   3000: train CategoryCrossEntropy |  0.00009996\n",
      "Step   3000: eval      CategoryAccuracy |  0.90625000\n",
      "Step   3000: eval  CategoryCrossEntropy |  0.50320791\n",
      "\n",
      "Step   3100: Ran 100 train steps in 4.94 secs\n",
      "Step   3100: train CategoryCrossEntropy |  0.00010836\n",
      "Step   3100: eval      CategoryAccuracy |  0.92500000\n",
      "Step   3100: eval  CategoryCrossEntropy |  0.41061383\n",
      "\n",
      "Step   3200: Ran 100 train steps in 4.93 secs\n",
      "Step   3200: train CategoryCrossEntropy |  0.00007490\n",
      "Step   3200: eval      CategoryAccuracy |  0.93375000\n",
      "Step   3200: eval  CategoryCrossEntropy |  0.36140387\n",
      "\n",
      "Step   3300: Ran 100 train steps in 4.89 secs\n",
      "Step   3300: train CategoryCrossEntropy |  0.00009474\n",
      "Step   3300: eval      CategoryAccuracy |  0.91625000\n",
      "Step   3300: eval  CategoryCrossEntropy |  0.42291875\n",
      "\n",
      "Step   3400: Ran 100 train steps in 4.87 secs\n",
      "Step   3400: train CategoryCrossEntropy |  0.00006179\n",
      "Step   3400: eval      CategoryAccuracy |  0.91625000\n",
      "Step   3400: eval  CategoryCrossEntropy |  0.47070761\n",
      "\n",
      "Step   3500: Ran 100 train steps in 4.88 secs\n",
      "Step   3500: train CategoryCrossEntropy |  0.00006409\n",
      "Step   3500: eval      CategoryAccuracy |  0.93375000\n",
      "Step   3500: eval  CategoryCrossEntropy |  0.41096612\n"
     ]
    }
   ],
   "source": [
    "loop.run(3000)"
   ]
  },
  {
   "cell_type": "code",
   "execution_count": 59,
   "metadata": {},
   "outputs": [
    {
     "name": "stdout",
     "output_type": "stream",
     "text": [
      "3\n",
      "[-1.8025566 -5.7060623 -2.0642273 11.6215725]\n"
     ]
    }
   ],
   "source": [
    "X, y = next(trainpipe)\n",
    "\n",
    "yhat = model(X)\n",
    "print(y[0])\n",
    "print(yhat[0])\n"
   ]
  },
  {
   "cell_type": "code",
   "execution_count": 55,
   "metadata": {},
   "outputs": [
    {
     "data": {
      "text/plain": [
       "DeviceArray(33, dtype=int32)"
      ]
     },
     "execution_count": 55,
     "metadata": {},
     "output_type": "execute_result"
    }
   ],
   "source": [
    "from sklearn.metrics import confusion_matrix\n",
    "\n",
    "y_true = []\n",
    "y_pred = []\n",
    "\n",
    "for _ in range(10):\n",
    "    X, y = next(trainpipe)\n",
    "    yhat = model(X)\n",
    "    yhat = yhat.argmax()\n",
    "    y_pred.append(yhat.tolist())\n",
    "    y_true.append(y.tolist())\n",
    "\n",
    "yhat\n",
    "#yhat = [x for y in y_pred for x in y]\n",
    "#y = [x for y in y_true for x in y]\n",
    "\n",
    "#cfm = confusion_matrix(y, yhat)\n",
    "#cfm_norm = cfm / np.sum(cfm, axis=1, keepdims=True)\n",
    "#plot = sns.heatmap(cfm_norm, annot=cfm_norm, fmt=\".3f\")\n",
    "#plot.set(xlabel=\"Predicted\", ylabel=\"Target\")\n"
   ]
  }
 ],
 "metadata": {
  "kernelspec": {
   "display_name": "Python 3.9.12 ('exam-22-AI0Wnuoo-py3.9': venv)",
   "language": "python",
   "name": "python3"
  },
  "language_info": {
   "codemirror_mode": {
    "name": "ipython",
    "version": 3
   },
   "file_extension": ".py",
   "mimetype": "text/x-python",
   "name": "python",
   "nbconvert_exporter": "python",
   "pygments_lexer": "ipython3",
   "version": "3.9.12"
  },
  "orig_nbformat": 4,
  "vscode": {
   "interpreter": {
    "hash": "6d57a7918acd5cf669aaceacf2060ac2c2f5aaba7f78c29525f8bc7602b3692a"
   }
  }
 },
 "nbformat": 4,
 "nbformat_minor": 2
}
