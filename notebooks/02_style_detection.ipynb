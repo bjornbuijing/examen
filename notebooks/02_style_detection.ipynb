{
 "cells": [
  {
   "cell_type": "code",
   "execution_count": 1,
   "metadata": {},
   "outputs": [],
   "source": [
    "import sys\n",
    "\n",
    "sys.path.insert(0, \"..\")\n",
    "from src.settings import StyleSettings\n",
    "from src.data.data_tools import StyleDataset\n",
    "import numpy as np\n",
    "import seaborn as sns\n"
   ]
  },
  {
   "cell_type": "markdown",
   "metadata": {},
   "source": [
    "# Load the data"
   ]
  },
  {
   "cell_type": "code",
   "execution_count": 2,
   "metadata": {},
   "outputs": [],
   "source": [
    "settings = StyleSettings()\n",
    "traindataset = StyleDataset([settings.trainpath])\n",
    "testdataset = StyleDataset([settings.testpath])\n"
   ]
  },
  {
   "cell_type": "markdown",
   "metadata": {},
   "source": [
    "We have 419 batches in the dataset"
   ]
  },
  {
   "cell_type": "code",
   "execution_count": 3,
   "metadata": {},
   "outputs": [
    {
     "data": {
      "text/plain": [
       "419"
      ]
     },
     "execution_count": 3,
     "metadata": {},
     "output_type": "execute_result"
    }
   ],
   "source": [
    "len(traindataset) // 32\n",
    "    "
   ]
  },
  {
   "cell_type": "code",
   "execution_count": 4,
   "metadata": {},
   "outputs": [
    {
     "name": "stdout",
     "output_type": "stream",
     "text": [
      "humorcount 4213 reuterscount 4186 wikicount 4181 proverbcount 831\n"
     ]
    }
   ],
   "source": [
    "# Let's quickly get a glimpse into the data\n",
    "humorcount = 0\n",
    "reuterscount = 0\n",
    "wikicount = 0\n",
    "proverbcount = 0\n",
    "for x, y in traindataset:\n",
    "    \n",
    "    if y == \"humor\": \n",
    "        humorcount = humorcount + 1\n",
    "    if y ==\"reuters\":\n",
    "        reuterscount = reuterscount + 1\n",
    "    if y ==\"wiki\": \n",
    "        wikicount = wikicount + 1\n",
    "    if y ==\"proverbs\":\n",
    "        proverbcount = proverbcount + 1\n",
    "print('humorcount ' + str(humorcount) +\n",
    "       ' reuterscount ' + str(reuterscount) +\n",
    "       ' wikicount ' + str(wikicount) +\n",
    "       ' proverbcount ' + str(proverbcount))\n",
    "\n",
    "\n",
    "# it seems we do not have a lot of proverbs\n"
   ]
  },
  {
   "cell_type": "code",
   "execution_count": 5,
   "metadata": {},
   "outputs": [
    {
     "data": {
      "text/plain": [
       "('Lace is an openwork fabric , patterned with open holes in the work , made by machine or by hand.',\n",
       " 'wiki')"
      ]
     },
     "execution_count": 5,
     "metadata": {},
     "output_type": "execute_result"
    }
   ],
   "source": [
    "x, y = traindataset[42]\n",
    "x, y\n"
   ]
  },
  {
   "cell_type": "markdown",
   "metadata": {},
   "source": [
    "Every batch is a `Tuple[str, str]` of a sentence and a label. We can see this is a classification task.\n",
    "The task is, to classify sentences in four categories.\n",
    "Lets build a vocabulary by copy-pasting the code we used before"
   ]
  },
  {
   "cell_type": "code",
   "execution_count": 6,
   "metadata": {},
   "outputs": [
    {
     "name": "stderr",
     "output_type": "stream",
     "text": [
      "2022-06-28 09:22:21.238 | INFO     | src.models.tokenizer:build_vocab:27 - Found 19306 tokens\n"
     ]
    },
    {
     "data": {
      "text/plain": [
       "19308"
      ]
     },
     "execution_count": 6,
     "metadata": {},
     "output_type": "execute_result"
    }
   ],
   "source": [
    "from src.models import tokenizer\n",
    "\n",
    "corpus = []\n",
    "for i in range(len(traindataset)):\n",
    "    x = tokenizer.clean(traindataset[i][0])\n",
    "    corpus.append(x)\n",
    "v = tokenizer.build_vocab(corpus, max=20000)\n",
    "len(v)\n"
   ]
  },
  {
   "cell_type": "markdown",
   "metadata": {},
   "source": [
    "We need to cast the labels to an integers. You can use this dictionary to do so:"
   ]
  },
  {
   "cell_type": "code",
   "execution_count": 7,
   "metadata": {},
   "outputs": [
    {
     "data": {
      "text/plain": [
       "2"
      ]
     },
     "execution_count": 7,
     "metadata": {},
     "output_type": "execute_result"
    }
   ],
   "source": [
    "d = {\"humor\": 0, \"reuters\": 1, \"wiki\": 2, \"proverbs\": 3}\n",
    "d[y]\n"
   ]
  },
  {
   "cell_type": "markdown",
   "metadata": {},
   "source": [
    "# Question 1\n",
    "Figure out, for every class, what accuracy you should expect if the model would guess blind on the train set"
   ]
  },
  {
   "cell_type": "code",
   "execution_count": 8,
   "metadata": {},
   "outputs": [
    {
     "name": "stdout",
     "output_type": "stream",
     "text": [
      "Chance to guess humor correctly:0.31414510476474533\n",
      "Chance to guess reuters correctly:0.3121318320781448\n",
      "Chance to guess wiki correctly:0.31175900380284843\n",
      "Chance to guess proverb correctly:0.06196405935426143\n"
     ]
    }
   ],
   "source": [
    "# TODO ~ about 4 lines of code\n",
    "print('Chance to guess humor correctly:' + str(humorcount / len(traindataset)))\n",
    "print('Chance to guess reuters correctly:' + str(reuterscount / len(traindataset)))\n",
    "print('Chance to guess wiki correctly:' + str(wikicount / len(traindataset)))\n",
    "print('Chance to guess proverb correctly:' + str(proverbcount / len(traindataset)))\n",
    "\n",
    "# As we already saw during the short data inspection is that there is a data imbalance. Hence the low score on a blind prediction. \n",
    "# This means, depending on the model and setting swe use we might run into bad performance for especially the proverbs.\n",
    "# We will go into the techniques to combat this deeper in Question 5"
   ]
  },
  {
   "cell_type": "markdown",
   "metadata": {},
   "source": [
    "Reflect on what you see. What does this mean? What implications does this have? Why is that good/bad?\n",
    "Are there things down the line that could cause a problem?"
   ]
  },
  {
   "cell_type": "markdown",
   "metadata": {},
   "source": [
    "# Question 2 : Implement a preprocessor\n",
    "\n",
    "We can inherit from `tokenizer.Preprocessor`\n",
    "Only thing we need to adjust is the `cast_label` function.\n",
    " \n",
    "- create a StylePreprocessor class\n",
    "- inherit from Preprocessor\n",
    "- create a new cast_label function for this dataset"
   ]
  },
  {
   "cell_type": "code",
   "execution_count": 9,
   "metadata": {},
   "outputs": [],
   "source": [
    "# TODO ~ about 4 lines of code\n",
    "class StylePreprocessor(tokenizer.Preprocessor):\n",
    "    def cast_label(self, label: str) -> int:\n",
    "        d = {\"humor\": 0, \"reuters\": 1, \"wiki\": 2, \"proverbs\": 3}\n",
    "        return d[label]\n",
    "    pass\n"
   ]
  },
  {
   "cell_type": "markdown",
   "metadata": {},
   "source": [
    "To test the preprocessor:"
   ]
  },
  {
   "cell_type": "code",
   "execution_count": 10,
   "metadata": {},
   "outputs": [
    {
     "data": {
      "text/plain": [
       "(tensor([[4929,  854,   32,   15,  499,   21, 8496,  890]], dtype=torch.int32),\n",
       " tensor([2]))"
      ]
     },
     "execution_count": 10,
     "metadata": {},
     "output_type": "execute_result"
    }
   ],
   "source": [
    "preprocessor = StylePreprocessor(max=100, vocab=v, clean=tokenizer.clean)\n",
    "preprocessor([(x, y)])\n"
   ]
  },
  {
   "cell_type": "markdown",
   "metadata": {},
   "source": [
    "# Set up the model\n",
    "We can re-use the BaseDatastreamer"
   ]
  },
  {
   "cell_type": "code",
   "execution_count": 11,
   "metadata": {},
   "outputs": [],
   "source": [
    "from src.data import data_tools\n",
    "\n",
    "trainstreamer = data_tools.BaseDatastreamer(\n",
    "    dataset=traindataset, batchsize=32, preprocessor=preprocessor\n",
    ").stream()\n",
    "teststreamer = data_tools.BaseDatastreamer(\n",
    "    dataset=testdataset, batchsize=32, preprocessor=preprocessor\n",
    ").stream()\n"
   ]
  },
  {
   "cell_type": "code",
   "execution_count": 12,
   "metadata": {},
   "outputs": [
    {
     "data": {
      "text/plain": [
       "(torch.Size([32, 29]),\n",
       " tensor([2, 2, 0, 2, 0, 0, 0, 2, 2, 2, 2, 0, 0, 0, 2, 0, 2, 1, 0, 0, 0, 2, 0, 0,\n",
       "         0, 2, 0, 0, 2, 0, 2, 0]))"
      ]
     },
     "execution_count": 12,
     "metadata": {},
     "output_type": "execute_result"
    }
   ],
   "source": [
    "x, y = next(trainstreamer)\n",
    "x.shape, y\n"
   ]
  },
  {
   "cell_type": "markdown",
   "metadata": {},
   "source": [
    "## Question 3 : Metrics, loss\n",
    "Select proper metrics and a loss function.\n",
    "\n",
    "Bonus: implement an additional metric function that is relevant for this case."
   ]
  },
  {
   "cell_type": "code",
   "execution_count": 13,
   "metadata": {},
   "outputs": [],
   "source": [
    "from src.models import metrics\n",
    "from src.models.metrics import Metric\n",
    "from sklearn.metrics import accuracy_score\n",
    "import torch"
   ]
  },
  {
   "cell_type": "code",
   "execution_count": 14,
   "metadata": {},
   "outputs": [],
   "source": [
    "# custome metric using accuracy score\n",
    "Tensor = torch.Tensor\n",
    "class CustomMetric(Metric):\n",
    "    \"\"\"\n",
    "    Simple metric using accuracy score \n",
    "    \"\"\"\n",
    "    def __repr__(self) -> str:\n",
    "        return \"CustomMetric\"\n",
    "\n",
    "    def __call__(self, y: Tensor, yhat: Tensor) -> Tensor:\n",
    "        yhat = yhat.argmax(dim=1)\n",
    "        score = accuracy_score(y, yhat, normalize=True)\n",
    "        return torch.tensor(score)"
   ]
  },
  {
   "cell_type": "code",
   "execution_count": 15,
   "metadata": {},
   "outputs": [],
   "source": [
    "\n",
    "import torch\n",
    "# TODO ~ 2 lines of code\n",
    "\n",
    "metrics = metrics.F1Score() \n",
    "#metrics = CustomMetric() \n",
    "# The custom metric didn't do all that bad, but was outperformed by the F1 metric \n",
    "# See confusion matrix in figures\n",
    "# 02 style detection Image confusion matrix custom metric .png\n",
    "# 02 style detection Image confusion matrix f1 metric .png\n",
    "\n",
    "loss_fn = torch.nn.CrossEntropyLoss() # Used for multiclass classification\n"
   ]
  },
  {
   "cell_type": "markdown",
   "metadata": {},
   "source": [
    "## Question 4 : Basemodel\n",
    "Create a base model. It does not need to be naive; you could re-use the\n",
    "NLP models we used for the IMDB.\n",
    "\n",
    "I suggest to start with a hidden size of about 128.\n",
    "Use a config dictionary, or a gin file, both are fine.\n",
    "\n",
    "Bonus points if you create a Trax model in src.models, and even more if you add a trax training loop."
   ]
  },
  {
   "cell_type": "code",
   "execution_count": 16,
   "metadata": {},
   "outputs": [],
   "source": [
    "# We start of with using a fairly simple NLP model \n",
    "# A more interesting model can be found in our TRAX based Tuned model in Question 6, including train loop and logging\n",
    "# This has been implemented in 02_style detection_custom.ipynb\n",
    "log_dir = settings.log_dir\n",
    "# TODO between 2 and 8 lines of code, depending on your setup\n",
    "# Assuming you load your model in one line of code from src.models.rnn\n",
    "from src.models import rnn\n",
    "\n",
    "config = {\n",
    "    \"vocab\": len(v),\n",
    "    \"hidden_size\": 128,\n",
    "    \"num_layers\": 2,\n",
    "    \"dropout\": 0.1,\n",
    "    \"output_size\": 4,\n",
    "}\n",
    "# load the model\n",
    "model = rnn.NLPmodel(config)\n"
   ]
  },
  {
   "cell_type": "markdown",
   "metadata": {},
   "source": [
    "Set up the trainloop.\n",
    "\n",
    "- Give the lenght of the traindataset, how many batches of 32 can you get out of it?\n",
    "- If you take a short amount of train_steps (eg 25) for every epoch, how many epochs do you need to cover the complete dataset?\n",
    "- What amount of epochs do you need to run the loop with trainsteps=25 to cover the complete traindataset once? \n",
    "- answer the questions above, and pick a reasonable epoch lenght\n",
    "\n",
    "Start with a default learning_rate of 1e-3 and an Adam optimizer."
   ]
  },
  {
   "cell_type": "code",
   "execution_count": 17,
   "metadata": {},
   "outputs": [
    {
     "name": "stdout",
     "output_type": "stream",
     "text": [
      "We can get 419 batches\n",
      "with 25 trainsteps which each take a batch of 32 items from the traindataset we get 800 items from the dataset which has 13411 items\n",
      "This means we need to run for 17 epochs to cover all data\n",
      "We chose 25 as a reasonable amount to start with and observe how the performance evolves.\n"
     ]
    }
   ],
   "source": [
    "dslen = len(traindataset)\n",
    "print (\"We can get \" + str(int(dslen / 32)) + ' batches')\n",
    "print (\"with 25 trainsteps which each take a batch of 32 items from the traindataset we get \" + \n",
    "        str(25 * 32) + \" items from the dataset which has \" + str(dslen) + \" items\")\n",
    "print (\"This means we need to run for \" + str(int(dslen / (25 * 32)) + 1) + \" epochs to cover all data\"  )\n",
    "print (\"We chose 25 as a reasonable amount to start with and observe how the performance evolves.\") \n",
    "# Note on the 25 although we increased this amount later on as the model kept learning a bit. \n",
    "# The optimum amount of epochs seems to be around 50 (where the test loss was lowest). \n",
    "# Maybe a callback function to stop like (https://www.geeksforgeeks.org/choose-optimal-number-of-epochs-to-train-a-neural-network-in-keras/) is a good option here\n"
   ]
  },
  {
   "cell_type": "code",
   "execution_count": 18,
   "metadata": {},
   "outputs": [
    {
     "name": "stderr",
     "output_type": "stream",
     "text": [
      "2022-06-28 09:22:25.168702: W tensorflow/stream_executor/platform/default/dso_loader.cc:64] Could not load dynamic library 'libcudart.so.11.0'; dlerror: libcudart.so.11.0: cannot open shared object file: No such file or directory\n",
      "2022-06-28 09:22:25.168742: I tensorflow/stream_executor/cuda/cudart_stub.cc:29] Ignore above cudart dlerror if you do not have a GPU set up on your machine.\n",
      "2022-06-28 09:22:35.605 | INFO     | src.data.data_tools:dir_add_timestamp:78 - Logging to ../tune/20220628-0922\n",
      "100%|██████████| 25/25 [00:01<00:00, 16.33it/s]\n",
      "2022-06-28 09:22:37.513 | INFO     | src.training.train_model:trainloop:164 - Epoch 0 train 1.2986 test 1.2988 metric ['0.1628']\n",
      "100%|██████████| 25/25 [00:01<00:00, 18.11it/s]\n",
      "2022-06-28 09:22:39.255 | INFO     | src.training.train_model:trainloop:164 - Epoch 1 train 1.2501 test 1.2147 metric ['0.3113']\n",
      "100%|██████████| 25/25 [00:01<00:00, 16.54it/s]\n",
      "2022-06-28 09:22:41.118 | INFO     | src.training.train_model:trainloop:164 - Epoch 2 train 1.1816 test 1.1023 metric ['0.3738']\n",
      "100%|██████████| 25/25 [00:01<00:00, 17.25it/s]\n",
      "2022-06-28 09:22:42.939 | INFO     | src.training.train_model:trainloop:164 - Epoch 3 train 1.0803 test 0.9651 metric ['0.4058']\n",
      "100%|██████████| 25/25 [00:01<00:00, 17.73it/s]\n",
      "2022-06-28 09:22:44.757 | INFO     | src.training.train_model:trainloop:164 - Epoch 4 train 0.8953 test 0.8472 metric ['0.5654']\n",
      "100%|██████████| 25/25 [00:01<00:00, 17.89it/s]\n",
      "2022-06-28 09:22:46.534 | INFO     | src.training.train_model:trainloop:164 - Epoch 5 train 0.7934 test 0.6381 metric ['0.6220']\n",
      "100%|██████████| 25/25 [00:01<00:00, 19.14it/s]\n",
      "2022-06-28 09:22:48.193 | INFO     | src.training.train_model:trainloop:164 - Epoch 6 train 0.6343 test 0.6393 metric ['0.6084']\n",
      "100%|██████████| 25/25 [00:01<00:00, 18.21it/s]\n",
      "2022-06-28 09:22:49.913 | INFO     | src.training.train_model:trainloop:164 - Epoch 7 train 0.6428 test 0.5755 metric ['0.6212']\n",
      "100%|██████████| 25/25 [00:01<00:00, 16.82it/s]\n",
      "2022-06-28 09:22:51.774 | INFO     | src.training.train_model:trainloop:164 - Epoch 8 train 0.4937 test 0.5041 metric ['0.6329']\n",
      "100%|██████████| 25/25 [00:01<00:00, 18.54it/s]\n",
      "2022-06-28 09:22:53.479 | INFO     | src.training.train_model:trainloop:164 - Epoch 9 train 0.5711 test 0.4889 metric ['0.6549']\n",
      "100%|██████████| 25/25 [00:01<00:00, 19.72it/s]]\n",
      "2022-06-28 09:22:55.165 | INFO     | src.training.train_model:trainloop:164 - Epoch 10 train 0.5107 test 0.4946 metric ['0.6988']\n",
      "100%|██████████| 25/25 [00:01<00:00, 19.13it/s]]\n",
      "2022-06-28 09:22:56.893 | INFO     | src.training.train_model:trainloop:164 - Epoch 11 train 0.4353 test 0.4443 metric ['0.7178']\n",
      "100%|██████████| 25/25 [00:01<00:00, 20.21it/s]]\n",
      "2022-06-28 09:22:58.486 | INFO     | src.training.train_model:trainloop:164 - Epoch 12 train 0.4353 test 0.4717 metric ['0.7076']\n",
      "100%|██████████| 25/25 [00:01<00:00, 19.11it/s]]\n",
      "2022-06-28 09:23:00.147 | INFO     | src.training.train_model:trainloop:164 - Epoch 13 train 0.4896 test 0.4389 metric ['0.7171']\n",
      "100%|██████████| 25/25 [00:01<00:00, 20.00it/s]]\n",
      "2022-06-28 09:23:01.788 | INFO     | src.training.train_model:trainloop:164 - Epoch 14 train 0.4064 test 0.4324 metric ['0.7218']\n",
      "100%|██████████| 25/25 [00:01<00:00, 20.11it/s]]\n",
      "2022-06-28 09:23:03.453 | INFO     | src.training.train_model:trainloop:164 - Epoch 15 train 0.3854 test 0.3700 metric ['0.7519']\n",
      "100%|██████████| 25/25 [00:01<00:00, 20.01it/s]]\n",
      "2022-06-28 09:23:05.122 | INFO     | src.training.train_model:trainloop:164 - Epoch 16 train 0.3722 test 0.3783 metric ['0.7390']\n",
      "100%|██████████| 25/25 [00:01<00:00, 18.11it/s]]\n",
      "2022-06-28 09:23:06.850 | INFO     | src.training.train_model:trainloop:164 - Epoch 17 train 0.3167 test 0.3575 metric ['0.7689']\n",
      "100%|██████████| 25/25 [00:01<00:00, 19.31it/s]]\n",
      "2022-06-28 09:23:08.493 | INFO     | src.training.train_model:trainloop:164 - Epoch 18 train 0.3560 test 0.3537 metric ['0.7193']\n",
      "100%|██████████| 25/25 [00:01<00:00, 20.91it/s]]\n",
      "2022-06-28 09:23:10.016 | INFO     | src.training.train_model:trainloop:164 - Epoch 19 train 0.2919 test 0.3553 metric ['0.7695']\n",
      "100%|██████████| 25/25 [00:01<00:00, 20.37it/s]]\n",
      "2022-06-28 09:23:11.624 | INFO     | src.training.train_model:trainloop:164 - Epoch 20 train 0.3387 test 0.4110 metric ['0.7521']\n",
      "100%|██████████| 25/25 [00:01<00:00, 19.35it/s]]\n",
      "2022-06-28 09:23:13.251 | INFO     | src.training.train_model:trainloop:164 - Epoch 21 train 0.2804 test 0.3825 metric ['0.7455']\n",
      "100%|██████████| 25/25 [00:01<00:00, 20.54it/s]]\n",
      "2022-06-28 09:23:14.797 | INFO     | src.training.train_model:trainloop:164 - Epoch 22 train 0.2717 test 0.3204 metric ['0.7908']\n",
      "100%|██████████| 25/25 [00:01<00:00, 20.95it/s]]\n",
      "2022-06-28 09:23:16.366 | INFO     | src.training.train_model:trainloop:164 - Epoch 23 train 0.3591 test 0.3409 metric ['0.7840']\n",
      "100%|██████████| 25/25 [00:01<00:00, 20.08it/s]]\n",
      "2022-06-28 09:23:17.962 | INFO     | src.training.train_model:trainloop:164 - Epoch 24 train 0.2675 test 0.3103 metric ['0.7974']\n",
      "100%|██████████| 25/25 [00:01<00:00, 22.80it/s]]\n",
      "2022-06-28 09:23:19.398 | INFO     | src.training.train_model:trainloop:164 - Epoch 25 train 0.2686 test 0.2968 metric ['0.8149']\n",
      "100%|██████████| 25/25 [00:01<00:00, 18.40it/s]]\n",
      "2022-06-28 09:23:21.200 | INFO     | src.training.train_model:trainloop:164 - Epoch 26 train 0.2930 test 0.3294 metric ['0.7908']\n",
      "100%|██████████| 25/25 [00:01<00:00, 19.67it/s]]\n",
      "2022-06-28 09:23:22.836 | INFO     | src.training.train_model:trainloop:164 - Epoch 27 train 0.3628 test 0.3570 metric ['0.7890']\n",
      "100%|██████████| 25/25 [00:01<00:00, 18.67it/s]]\n",
      "2022-06-28 09:23:24.513 | INFO     | src.training.train_model:trainloop:164 - Epoch 28 train 0.2557 test 0.3279 metric ['0.8194']\n",
      "100%|██████████| 25/25 [00:01<00:00, 20.57it/s]]\n",
      "2022-06-28 09:23:26.126 | INFO     | src.training.train_model:trainloop:164 - Epoch 29 train 0.2550 test 0.3545 metric ['0.7661']\n",
      "100%|██████████| 25/25 [00:01<00:00, 21.31it/s]]\n",
      "2022-06-28 09:23:27.675 | INFO     | src.training.train_model:trainloop:164 - Epoch 30 train 0.2293 test 0.3522 metric ['0.7925']\n",
      "100%|██████████| 25/25 [00:01<00:00, 18.42it/s]]\n",
      "2022-06-28 09:23:29.367 | INFO     | src.training.train_model:trainloop:164 - Epoch 31 train 0.2582 test 0.3063 metric ['0.8052']\n",
      "100%|██████████| 25/25 [00:01<00:00, 20.16it/s]]\n",
      "2022-06-28 09:23:30.996 | INFO     | src.training.train_model:trainloop:164 - Epoch 32 train 0.2400 test 0.3027 metric ['0.8341']\n",
      "100%|██████████| 25/25 [00:01<00:00, 18.57it/s]]\n",
      "2022-06-28 09:23:32.695 | INFO     | src.training.train_model:trainloop:164 - Epoch 33 train 0.1959 test 0.2719 metric ['0.8309']\n",
      "100%|██████████| 25/25 [00:01<00:00, 20.69it/s]]\n",
      "2022-06-28 09:23:34.279 | INFO     | src.training.train_model:trainloop:164 - Epoch 34 train 0.1498 test 0.3476 metric ['0.8082']\n",
      "100%|██████████| 25/25 [00:01<00:00, 21.72it/s]]\n",
      "2022-06-28 09:23:35.788 | INFO     | src.training.train_model:trainloop:164 - Epoch 35 train 0.1609 test 0.2732 metric ['0.8212']\n",
      "100%|██████████| 25/25 [00:01<00:00, 20.89it/s]]\n",
      "2022-06-28 09:23:37.333 | INFO     | src.training.train_model:trainloop:164 - Epoch 36 train 0.1596 test 0.2889 metric ['0.8307']\n",
      "100%|██████████| 25/25 [00:01<00:00, 20.88it/s]]\n",
      "2022-06-28 09:23:38.927 | INFO     | src.training.train_model:trainloop:164 - Epoch 37 train 0.1538 test 0.3226 metric ['0.8483']\n",
      "100%|██████████| 25/25 [00:01<00:00, 19.82it/s]]\n",
      "2022-06-28 09:23:40.541 | INFO     | src.training.train_model:trainloop:164 - Epoch 38 train 0.1771 test 0.2775 metric ['0.8127']\n",
      "100%|██████████| 25/25 [00:01<00:00, 20.26it/s]]\n",
      "2022-06-28 09:23:42.195 | INFO     | src.training.train_model:trainloop:164 - Epoch 39 train 0.1256 test 0.2745 metric ['0.8397']\n",
      "100%|██████████| 25/25 [00:01<00:00, 20.60it/s]]\n",
      "2022-06-28 09:23:43.782 | INFO     | src.training.train_model:trainloop:164 - Epoch 40 train 0.1417 test 0.3000 metric ['0.8450']\n",
      "100%|██████████| 25/25 [00:01<00:00, 18.87it/s]]\n",
      "2022-06-28 09:23:45.482 | INFO     | src.training.train_model:trainloop:164 - Epoch 41 train 0.1903 test 0.3255 metric ['0.7843']\n",
      "100%|██████████| 25/25 [00:01<00:00, 19.02it/s]]\n",
      "2022-06-28 09:23:47.218 | INFO     | src.training.train_model:trainloop:164 - Epoch 42 train 0.1336 test 0.3212 metric ['0.8214']\n",
      "100%|██████████| 25/25 [00:01<00:00, 21.08it/s]]\n",
      "2022-06-28 09:23:48.778 | INFO     | src.training.train_model:trainloop:164 - Epoch 43 train 0.1702 test 0.2930 metric ['0.8302']\n",
      "100%|██████████| 25/25 [00:01<00:00, 20.82it/s]]\n",
      "2022-06-28 09:23:50.327 | INFO     | src.training.train_model:trainloop:164 - Epoch 44 train 0.1667 test 0.2835 metric ['0.8289']\n",
      "100%|██████████| 25/25 [00:01<00:00, 18.28it/s]]\n",
      "2022-06-28 09:23:52.070 | INFO     | src.training.train_model:trainloop:164 - Epoch 45 train 0.1720 test 0.2570 metric ['0.8644']\n",
      "100%|██████████| 25/25 [00:01<00:00, 19.01it/s]]\n",
      "2022-06-28 09:23:53.821 | INFO     | src.training.train_model:trainloop:164 - Epoch 46 train 0.2095 test 0.3027 metric ['0.8257']\n",
      "100%|██████████| 25/25 [00:01<00:00, 21.03it/s]]\n",
      "2022-06-28 09:23:55.348 | INFO     | src.training.train_model:trainloop:164 - Epoch 47 train 0.1765 test 0.3068 metric ['0.8520']\n",
      "100%|██████████| 25/25 [00:01<00:00, 19.77it/s]]\n",
      "2022-06-28 09:23:56.996 | INFO     | src.training.train_model:trainloop:164 - Epoch 48 train 0.1362 test 0.2558 metric ['0.8565']\n",
      "100%|██████████| 25/25 [00:01<00:00, 18.64it/s]]\n",
      "2022-06-28 09:23:58.719 | INFO     | src.training.train_model:trainloop:164 - Epoch 49 train 0.1647 test 0.3239 metric ['0.7791']\n",
      "100%|██████████| 25/25 [00:01<00:00, 18.14it/s]]\n",
      "2022-06-28 09:24:00.497 | INFO     | src.training.train_model:trainloop:164 - Epoch 50 train 0.1002 test 0.2554 metric ['0.8516']\n",
      "100%|██████████| 25/25 [00:01<00:00, 18.16it/s]]\n",
      "2022-06-28 09:24:02.281 | INFO     | src.training.train_model:trainloop:164 - Epoch 51 train 0.0689 test 0.3616 metric ['0.7940']\n",
      "100%|██████████| 25/25 [00:01<00:00, 17.82it/s]]\n",
      "2022-06-28 09:24:04.076 | INFO     | src.training.train_model:trainloop:164 - Epoch 52 train 0.0904 test 0.2833 metric ['0.8668']\n",
      "100%|██████████| 25/25 [00:01<00:00, 19.13it/s]]\n",
      "2022-06-28 09:24:05.718 | INFO     | src.training.train_model:trainloop:164 - Epoch 53 train 0.0516 test 0.3299 metric ['0.8672']\n",
      "100%|██████████| 25/25 [00:01<00:00, 20.90it/s]]\n",
      "2022-06-28 09:24:07.294 | INFO     | src.training.train_model:trainloop:164 - Epoch 54 train 0.0620 test 0.3343 metric ['0.8328']\n",
      "100%|██████████| 25/25 [00:01<00:00, 20.13it/s]]\n",
      "2022-06-28 09:24:08.905 | INFO     | src.training.train_model:trainloop:164 - Epoch 55 train 0.0844 test 0.2601 metric ['0.8186']\n",
      "100%|██████████| 25/25 [00:01<00:00, 19.05it/s]]\n",
      "2022-06-28 09:24:10.634 | INFO     | src.training.train_model:trainloop:164 - Epoch 56 train 0.0826 test 0.3384 metric ['0.8262']\n",
      "100%|██████████| 25/25 [00:01<00:00, 21.74it/s]]\n",
      "2022-06-28 09:24:12.133 | INFO     | src.training.train_model:trainloop:164 - Epoch 57 train 0.0819 test 0.3754 metric ['0.8215']\n",
      "100%|██████████| 25/25 [00:01<00:00, 18.72it/s]]\n",
      "2022-06-28 09:24:13.810 | INFO     | src.training.train_model:trainloop:164 - Epoch 58 train 0.0925 test 0.3911 metric ['0.8327']\n",
      "100%|██████████| 25/25 [00:01<00:00, 20.59it/s]]\n",
      "2022-06-28 09:24:15.398 | INFO     | src.training.train_model:trainloop:164 - Epoch 59 train 0.1108 test 0.4241 metric ['0.8200']\n",
      "100%|██████████| 25/25 [00:01<00:00, 19.31it/s]]\n",
      "2022-06-28 09:24:17.035 | INFO     | src.training.train_model:trainloop:164 - Epoch 60 train 0.0894 test 0.2586 metric ['0.8476']\n",
      "100%|██████████| 25/25 [00:01<00:00, 19.80it/s]]\n",
      "2022-06-28 09:24:18.668 | INFO     | src.training.train_model:trainloop:164 - Epoch 61 train 0.1305 test 0.2706 metric ['0.8636']\n",
      "100%|██████████| 25/25 [00:01<00:00, 20.54it/s]]\n",
      "2022-06-28 09:24:20.247 | INFO     | src.training.train_model:trainloop:164 - Epoch 62 train 0.0942 test 0.3036 metric ['0.8344']\n",
      "100%|██████████| 25/25 [00:01<00:00, 19.18it/s]]\n",
      "2022-06-28 09:24:21.931 | INFO     | src.training.train_model:trainloop:164 - Epoch 63 train 0.0817 test 0.2665 metric ['0.8606']\n",
      "100%|██████████| 25/25 [00:01<00:00, 19.86it/s]]\n",
      "2022-06-28 09:24:23.571 | INFO     | src.training.train_model:trainloop:164 - Epoch 64 train 0.0665 test 0.3404 metric ['0.8324']\n",
      "100%|██████████| 25/25 [00:01<00:00, 19.23it/s]]\n",
      "2022-06-28 09:24:25.212 | INFO     | src.training.train_model:trainloop:164 - Epoch 65 train 0.0713 test 0.3488 metric ['0.8393']\n",
      "100%|██████████| 25/25 [00:01<00:00, 19.79it/s]]\n",
      "2022-06-28 09:24:26.843 | INFO     | src.training.train_model:trainloop:164 - Epoch 66 train 0.1024 test 0.3355 metric ['0.8363']\n",
      "100%|██████████| 25/25 [00:01<00:00, 18.67it/s]]\n",
      "2022-06-28 09:24:28.605 | INFO     | src.training.train_model:trainloop:164 - Epoch 67 train 0.0538 test 0.2843 metric ['0.8568']\n",
      "100%|██████████| 25/25 [00:01<00:00, 20.89it/s]]\n",
      "2022-06-28 09:24:30.136 | INFO     | src.training.train_model:trainloop:164 - Epoch 68 train 0.0383 test 0.3009 metric ['0.8796']\n",
      "100%|██████████| 25/25 [00:01<00:00, 19.54it/s]]\n",
      "2022-06-28 09:24:31.822 | INFO     | src.training.train_model:trainloop:164 - Epoch 69 train 0.0316 test 0.3735 metric ['0.8610']\n",
      "100%|██████████| 25/25 [00:01<00:00, 19.46it/s]]\n",
      "2022-06-28 09:24:33.534 | INFO     | src.training.train_model:trainloop:164 - Epoch 70 train 0.0418 test 0.3280 metric ['0.8843']\n",
      "100%|██████████| 25/25 [00:01<00:00, 20.86it/s]]\n",
      "2022-06-28 09:24:35.127 | INFO     | src.training.train_model:trainloop:164 - Epoch 71 train 0.0771 test 0.2950 metric ['0.8510']\n",
      "100%|██████████| 25/25 [00:01<00:00, 18.94it/s]]\n",
      "2022-06-28 09:24:36.791 | INFO     | src.training.train_model:trainloop:164 - Epoch 72 train 0.0414 test 0.3437 metric ['0.8602']\n",
      "100%|██████████| 25/25 [00:01<00:00, 19.86it/s]]\n",
      "2022-06-28 09:24:38.398 | INFO     | src.training.train_model:trainloop:164 - Epoch 73 train 0.0230 test 0.3760 metric ['0.8642']\n",
      "100%|██████████| 25/25 [00:01<00:00, 16.86it/s]]\n",
      "2022-06-28 09:24:40.244 | INFO     | src.training.train_model:trainloop:164 - Epoch 74 train 0.0370 test 0.3910 metric ['0.8768']\n",
      "100%|██████████| 25/25 [00:01<00:00, 18.75it/s]]\n",
      "2022-06-28 09:24:41.937 | INFO     | src.training.train_model:trainloop:164 - Epoch 75 train 0.0507 test 0.4614 metric ['0.8339']\n",
      "100%|██████████| 25/25 [00:01<00:00, 19.46it/s]]\n",
      "2022-06-28 09:24:43.575 | INFO     | src.training.train_model:trainloop:164 - Epoch 76 train 0.0506 test 0.3435 metric ['0.8674']\n",
      "100%|██████████| 25/25 [00:01<00:00, 18.73it/s]]\n",
      "2022-06-28 09:24:45.268 | INFO     | src.training.train_model:trainloop:164 - Epoch 77 train 0.0353 test 0.3468 metric ['0.8078']\n",
      "100%|██████████| 25/25 [00:01<00:00, 18.91it/s]]\n",
      "2022-06-28 09:24:46.945 | INFO     | src.training.train_model:trainloop:164 - Epoch 78 train 0.0490 test 0.3567 metric ['0.8513']\n",
      "100%|██████████| 25/25 [00:01<00:00, 19.75it/s]]\n",
      "2022-06-28 09:24:48.628 | INFO     | src.training.train_model:trainloop:164 - Epoch 79 train 0.0338 test 0.3821 metric ['0.8367']\n",
      "100%|██████████| 25/25 [00:01<00:00, 19.09it/s]]\n",
      "2022-06-28 09:24:50.282 | INFO     | src.training.train_model:trainloop:164 - Epoch 80 train 0.0406 test 0.3924 metric ['0.8427']\n",
      "100%|██████████| 25/25 [00:01<00:00, 19.07it/s]]\n",
      "2022-06-28 09:24:51.940 | INFO     | src.training.train_model:trainloop:164 - Epoch 81 train 0.0370 test 0.3541 metric ['0.8477']\n",
      "100%|██████████| 25/25 [00:01<00:00, 19.55it/s]]\n",
      "2022-06-28 09:24:53.560 | INFO     | src.training.train_model:trainloop:164 - Epoch 82 train 0.0402 test 0.4264 metric ['0.8650']\n",
      "100%|██████████| 25/25 [00:01<00:00, 18.34it/s]]\n",
      "2022-06-28 09:24:55.278 | INFO     | src.training.train_model:trainloop:164 - Epoch 83 train 0.0340 test 0.4177 metric ['0.8134']\n",
      "100%|██████████| 25/25 [00:01<00:00, 20.08it/s]]\n",
      "2022-06-28 09:24:56.871 | INFO     | src.training.train_model:trainloop:164 - Epoch 84 train 0.0257 test 0.3511 metric ['0.8899']\n",
      "100%|██████████| 25/25 [00:01<00:00, 20.05it/s]]\n",
      "2022-06-28 09:24:58.486 | INFO     | src.training.train_model:trainloop:164 - Epoch 85 train 0.0226 test 0.4435 metric ['0.8351']\n",
      "100%|██████████| 25/25 [00:01<00:00, 19.97it/s]]\n",
      "2022-06-28 09:25:00.109 | INFO     | src.training.train_model:trainloop:164 - Epoch 86 train 0.0191 test 0.3706 metric ['0.8692']\n",
      "100%|██████████| 25/25 [00:01<00:00, 20.73it/s]]\n",
      "2022-06-28 09:25:01.710 | INFO     | src.training.train_model:trainloop:164 - Epoch 87 train 0.0187 test 0.4025 metric ['0.8396']\n",
      "100%|██████████| 25/25 [00:01<00:00, 20.61it/s]]\n",
      "2022-06-28 09:25:03.288 | INFO     | src.training.train_model:trainloop:164 - Epoch 88 train 0.0359 test 0.3326 metric ['0.8710']\n",
      "100%|██████████| 25/25 [00:01<00:00, 20.19it/s]]\n",
      "2022-06-28 09:25:04.881 | INFO     | src.training.train_model:trainloop:164 - Epoch 89 train 0.0091 test 0.4800 metric ['0.8354']\n",
      "100%|██████████| 25/25 [00:01<00:00, 18.64it/s]]\n",
      "2022-06-28 09:25:06.608 | INFO     | src.training.train_model:trainloop:164 - Epoch 90 train 0.0117 test 0.4233 metric ['0.8259']\n",
      "100%|██████████| 25/25 [00:01<00:00, 18.47it/s]]\n",
      "2022-06-28 09:25:08.349 | INFO     | src.training.train_model:trainloop:164 - Epoch 91 train 0.0151 test 0.4229 metric ['0.8491']\n",
      "100%|██████████| 25/25 [00:01<00:00, 19.09it/s]]\n",
      "2022-06-28 09:25:10.022 | INFO     | src.training.train_model:trainloop:164 - Epoch 92 train 0.0209 test 0.4290 metric ['0.8568']\n",
      "100%|██████████| 25/25 [00:01<00:00, 19.49it/s]]\n",
      "2022-06-28 09:25:11.692 | INFO     | src.training.train_model:trainloop:164 - Epoch 93 train 0.0244 test 0.4369 metric ['0.8398']\n",
      "100%|██████████| 25/25 [00:01<00:00, 18.30it/s]]\n",
      "2022-06-28 09:25:13.430 | INFO     | src.training.train_model:trainloop:164 - Epoch 94 train 0.0219 test 0.3711 metric ['0.8330']\n",
      "100%|██████████| 25/25 [00:01<00:00, 19.53it/s]]\n",
      "2022-06-28 09:25:15.079 | INFO     | src.training.train_model:trainloop:164 - Epoch 95 train 0.0159 test 0.4136 metric ['0.8690']\n",
      "100%|██████████| 25/25 [00:01<00:00, 18.56it/s]]\n",
      "2022-06-28 09:25:16.765 | INFO     | src.training.train_model:trainloop:164 - Epoch 96 train 0.0080 test 0.4308 metric ['0.8415']\n",
      "100%|██████████| 25/25 [00:01<00:00, 20.50it/s]]\n",
      "2022-06-28 09:25:18.346 | INFO     | src.training.train_model:trainloop:164 - Epoch 97 train 0.0399 test 0.4721 metric ['0.8588']\n",
      "100%|██████████| 25/25 [00:01<00:00, 19.65it/s]]\n",
      "2022-06-28 09:25:19.975 | INFO     | src.training.train_model:trainloop:164 - Epoch 98 train 0.0319 test 0.4835 metric ['0.8379']\n",
      "100%|██████████| 25/25 [00:01<00:00, 18.38it/s]]\n",
      "2022-06-28 09:25:21.708 | INFO     | src.training.train_model:trainloop:164 - Epoch 99 train 0.0483 test 0.3705 metric ['0.8630']\n",
      "100%|██████████| 100/100 [02:46<00:00,  1.66s/it]\n"
     ]
    }
   ],
   "source": [
    "from src.training import train_model\n",
    "\n",
    "model = train_model.trainloop(\n",
    "    epochs=100,\n",
    "    model=model,\n",
    "    metrics=[metrics],\n",
    "    optimizer=torch.optim.Adam,\n",
    "    learning_rate=1e-3,\n",
    "    loss_fn=loss_fn,\n",
    "    train_dataloader=trainstreamer,\n",
    "    test_dataloader=teststreamer,\n",
    "    log_dir=log_dir,\n",
    "    train_steps=25,\n",
    "    eval_steps=25,\n",
    ")\n"
   ]
  },
  {
   "cell_type": "markdown",
   "metadata": {},
   "source": [
    "Save an image from the training in tensorboard in the `figures` folder.\n",
    "Explain what you are seeing."
   ]
  },
  {
   "cell_type": "markdown",
   "metadata": {},
   "source": [
    "your explanation here"
   ]
  },
  {
   "cell_type": "markdown",
   "metadata": {},
   "source": [
    "<b>Initially testing with 25 epochs both the train and test loss kept going down, so I increased the epochs to 50.\n",
    "\n",
    "Here after about 50 epochs the train loss still went down but the test loss went up and down, showing there was overfitting going on. \n",
    "The training loop scheduler decreased the learning rate when it plateaud, and initially got some better results, but test results got worse again untill the learning rate was lowered again.\n",
    "\n",
    "After running for 100 epochs we can see the test loss steadily increasing which might indicate the learning model is not picking up structures, but remembering data. (02 style detection Image tensorboard .png)</b>"
   ]
  },
  {
   "cell_type": "markdown",
   "metadata": {},
   "source": [
    "# 5 Evaluate the basemodel\n",
    "Create a confusion matrix with the code below"
   ]
  },
  {
   "cell_type": "code",
   "execution_count": 19,
   "metadata": {},
   "outputs": [],
   "source": [
    "y_true = []\n",
    "y_pred = []\n",
    "\n",
    "for _ in range(10):\n",
    "    X, y = next(teststreamer)\n",
    "    yhat = model(X)\n",
    "    yhat = yhat.argmax(dim=1)\n",
    "    y_pred.append(yhat.tolist())\n",
    "    y_true.append(y.tolist())\n",
    "\n",
    "yhat = [x for y in y_pred for x in y]\n",
    "y = [x for y in y_true for x in y]\n"
   ]
  },
  {
   "cell_type": "code",
   "execution_count": 20,
   "metadata": {},
   "outputs": [
    {
     "data": {
      "text/plain": [
       "[Text(0.5, 15.0, 'Predicted'), Text(33.0, 0.5, 'Target')]"
      ]
     },
     "execution_count": 20,
     "metadata": {},
     "output_type": "execute_result"
    },
    {
     "data": {
      "image/png": "[encoded data removed]",
      "text/plain": [
       "<Figure size 432x288 with 2 Axes>"
      ]
     },
     "metadata": {
      "needs_background": "light"
     },
     "output_type": "display_data"
    }
   ],
   "source": [
    "from sklearn.metrics import confusion_matrix\n",
    "\n",
    "y_true = []\n",
    "y_pred = []\n",
    "\n",
    "for _ in range(10):\n",
    "    X, y = next(teststreamer)\n",
    "    yhat = model(X)\n",
    "    yhat = yhat.argmax(dim=1)\n",
    "    y_pred.append(yhat.tolist())\n",
    "    y_true.append(y.tolist())\n",
    "\n",
    "yhat = [x for y in y_pred for x in y]\n",
    "y = [x for y in y_true for x in y]\n",
    "\n",
    "cfm = confusion_matrix(y, yhat)\n",
    "cfm_norm = cfm / np.sum(cfm, axis=1, keepdims=True)\n",
    "plot = sns.heatmap(cfm_norm, annot=cfm_norm, fmt=\".3f\")\n",
    "plot.set(xlabel=\"Predicted\", ylabel=\"Target\")\n"
   ]
  },
  {
   "cell_type": "markdown",
   "metadata": {},
   "source": [
    "Save this in the figures folder.\n",
    "Interpret this. \n",
    "\n",
    "- What is going on?\n",
    "- What is a good metric here?\n",
    "- how is your answer to Q1 relevant here?\n",
    "- Is there something you could do to fix/improve things, after you see these results?"
   ]
  },
  {
   "cell_type": "markdown",
   "metadata": {},
   "source": [
    "<b>The classes are : \"humor\": 0, \"reuters\": 1, \"wiki\": 2, \"proverbs\": 3\n",
    "\n",
    "Q1 : It seems the model has some difficulty understanding both humor and proverbs.\n",
    "Both seem to be mistaken for wiki entries. \n",
    "The bad performance for the proverbs is likely because of the low amount of proverbs in the dataset. Detecting whether a text is a joke or not is apparently already challenging :\n",
    "(https://hdsr.mitpress.mit.edu/pub/wi9yky5c/release/3)\n",
    "We might try to use a Bert like model to detect this like the paper suggests \"BERT-like models vastly outperform other approaches in humor detection ; .\".\n",
    "\n",
    "Q2 : Seeing the dataset in unbalanced (we only have 800 proverbs) the F1 score will be a better metric.\n",
    "\n",
    "Q3 : Question 1 answers the question about the balance of the data. This unbalanced data is the reason why we chose a F1 metric after our custom metric and it provides much better results for proverbs. I've added a screenshot of the confusion metric in the figures directory.\n",
    "\n",
    "Q4 : We can try to either find more proverbs. We can also use oversampling on the proverb class or using less items from the other classes (undersample). \n",
    " .\n"
   ]
  },
  {
   "cell_type": "markdown",
   "metadata": {},
   "source": [
    "# 6 Tune the model\n",
    "Don't overdo this.\n",
    "More is not better.\n",
    "\n",
    "Bonus points for things like:\n",
    "- Attention layers\n",
    "- Trax architecture including a functioning training loop\n",
    "\n",
    "Keep it small! It's better to present 2 or 3 sane experiments that are structured and thought trough, than 25 random guesses. You can test more, but select 2 or 3 of the best alternatives you researched, with a rationale why this works better.\n",
    "\n",
    "Keep it concise; explain:\n",
    "- what you changed\n",
    "- why you thought that was a good idea  \n",
    "- what the impact was (visualise or numeric)\n",
    "- explain the impact\n",
    "\n",
    "You dont need to get a perfect score; curiousity driven research that fails is fine.\n",
    "The insight into what is happening is more important than the quantity.\n",
    "\n",
    "Keep logs of your settings;\n",
    "either use gin, or save configs, or both :)\n",
    "Store images in the `figures` folder."
   ]
  },
  {
   "cell_type": "code",
   "execution_count": 21,
   "metadata": {},
   "outputs": [],
   "source": [
    "# A new trax model with a trax training loop, config saving etc. can be found in 02_style detection_custom.ipynb\n"
   ]
  }
 ],
 "metadata": {
  "kernelspec": {
   "display_name": "Python 3.9.12 ('exam-22-AI0Wnuoo-py3.9': venv)",
   "language": "python",
   "name": "python3"
  },
  "language_info": {
   "codemirror_mode": {
    "name": "ipython",
    "version": 3
   },
   "file_extension": ".py",
   "mimetype": "text/x-python",
   "name": "python",
   "nbconvert_exporter": "python",
   "pygments_lexer": "ipython3",
   "version": "3.9.12"
  },
  "orig_nbformat": 4,
  "vscode": {
   "interpreter": {
    "hash": "6d57a7918acd5cf669aaceacf2060ac2c2f5aaba7f78c29525f8bc7602b3692a"
   }
  }
 },
 "nbformat": 4,
 "nbformat_minor": 2
}
