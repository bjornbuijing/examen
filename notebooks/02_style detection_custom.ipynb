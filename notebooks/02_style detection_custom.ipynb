{
 "cells": [
  {
   "cell_type": "code",
   "execution_count": 1,
   "metadata": {},
   "outputs": [],
   "source": [
    "import sys\n",
    "sys.path.insert(0, \"..\")\n",
    "from src.settings import StyleSettings\n",
    "from src.data.data_tools import StyleDataset\n",
    "import numpy as np\n",
    "import seaborn as sns\n"
   ]
  },
  {
   "cell_type": "markdown",
   "metadata": {},
   "source": [
    "# Implementation of question 6 a custom model to try to improve performance"
   ]
  },
  {
   "cell_type": "markdown",
   "metadata": {},
   "source": [
    "# Load the data"
   ]
  },
  {
   "cell_type": "code",
   "execution_count": 2,
   "metadata": {},
   "outputs": [],
   "source": [
    "settings = StyleSettings()\n",
    "traindataset = StyleDataset([settings.trainpath])\n",
    "testdataset = StyleDataset([settings.testpath])\n"
   ]
  },
  {
   "cell_type": "markdown",
   "metadata": {},
   "source": [
    "We have 419 batches in the dataset"
   ]
  },
  {
   "cell_type": "code",
   "execution_count": 3,
   "metadata": {},
   "outputs": [
    {
     "data": {
      "text/plain": [
       "419"
      ]
     },
     "execution_count": 3,
     "metadata": {},
     "output_type": "execute_result"
    }
   ],
   "source": [
    "len(traindataset) // 32\n"
   ]
  },
  {
   "cell_type": "code",
   "execution_count": 4,
   "metadata": {},
   "outputs": [
    {
     "data": {
      "text/plain": [
       "('Lace is an openwork fabric , patterned with open holes in the work , made by machine or by hand.',\n",
       " 'wiki')"
      ]
     },
     "execution_count": 4,
     "metadata": {},
     "output_type": "execute_result"
    }
   ],
   "source": [
    "x, y = traindataset[42]\n",
    "x, y\n"
   ]
  },
  {
   "cell_type": "markdown",
   "metadata": {},
   "source": [
    "Every batch is a `Tuple[str, str]` of a sentence and a label. We can see this is a classification task.\n",
    "The task is, to classify sentences in four categories.\n",
    "Lets build a vocabulary by copy-pasting the code we used before"
   ]
  },
  {
   "cell_type": "code",
   "execution_count": 5,
   "metadata": {},
   "outputs": [
    {
     "name": "stderr",
     "output_type": "stream",
     "text": [
      "2022-06-28 11:12:03.252 | INFO     | src.models.tokenizer:build_vocab:27 - Found 19306 tokens\n"
     ]
    },
    {
     "data": {
      "text/plain": [
       "19308"
      ]
     },
     "execution_count": 5,
     "metadata": {},
     "output_type": "execute_result"
    }
   ],
   "source": [
    "from src.models import tokenizer\n",
    "\n",
    "corpus = []\n",
    "for i in range(len(traindataset)):\n",
    "    x = tokenizer.clean(traindataset[i][0])\n",
    "    corpus.append(x)\n",
    "v = tokenizer.build_vocab(corpus, max=20000)\n",
    "len(v)\n"
   ]
  },
  {
   "cell_type": "markdown",
   "metadata": {},
   "source": [
    "We need to cast the labels to an integers. You can use this dictionary to do so:"
   ]
  },
  {
   "cell_type": "code",
   "execution_count": 6,
   "metadata": {},
   "outputs": [
    {
     "data": {
      "text/plain": [
       "2"
      ]
     },
     "execution_count": 6,
     "metadata": {},
     "output_type": "execute_result"
    }
   ],
   "source": [
    "d = {\"humor\": 0, \"reuters\": 1, \"wiki\": 2, \"proverbs\": 3}\n",
    "d[y]\n"
   ]
  },
  {
   "cell_type": "markdown",
   "metadata": {},
   "source": [
    "# Question 2 : Implement a preprocessor\n",
    "\n",
    "We can inherit from `tokenizer.Preprocessor`\n",
    "Only thing we need to adjust is the `cast_label` function.\n",
    " \n",
    "- create a StylePreprocessor class\n",
    "- inherit from Preprocessor\n",
    "- create a new cast_label function for this dataset"
   ]
  },
  {
   "cell_type": "code",
   "execution_count": 7,
   "metadata": {},
   "outputs": [],
   "source": [
    "\n",
    "# TODO ~ about 4 lines of code\n",
    "class StylePreprocessor(tokenizer.Preprocessor):\n",
    "    def cast_label(self, label: str) -> int:\n",
    "        d = {\"humor\": 0, \"reuters\": 1, \"wiki\": 2, \"proverbs\": 3}\n",
    "        return d[label]\n",
    "    pass\n"
   ]
  },
  {
   "cell_type": "markdown",
   "metadata": {},
   "source": [
    "To test the preprocessor:"
   ]
  },
  {
   "cell_type": "code",
   "execution_count": 8,
   "metadata": {},
   "outputs": [
    {
     "data": {
      "text/plain": [
       "(tensor([[4929,  854,   32,   15,  499,   21, 8496,  890]], dtype=torch.int32),\n",
       " tensor([2]))"
      ]
     },
     "execution_count": 8,
     "metadata": {},
     "output_type": "execute_result"
    }
   ],
   "source": [
    "preprocessor = StylePreprocessor(max=100, vocab=v, clean=tokenizer.clean)\n",
    "preprocessor([(x, y)])\n"
   ]
  },
  {
   "cell_type": "markdown",
   "metadata": {},
   "source": [
    "# Set up the model\n",
    "We can re-use the BaseDatastreamer"
   ]
  },
  {
   "cell_type": "code",
   "execution_count": 9,
   "metadata": {},
   "outputs": [],
   "source": [
    "from src.data import data_tools\n",
    "\n",
    "trainstreamer = data_tools.BaseDatastreamer(\n",
    "    dataset=traindataset, batchsize=32, preprocessor=preprocessor\n",
    ").stream()\n",
    "teststreamer = data_tools.BaseDatastreamer(\n",
    "    dataset=testdataset, batchsize=32, preprocessor=preprocessor\n",
    ").stream()\n"
   ]
  },
  {
   "cell_type": "code",
   "execution_count": 10,
   "metadata": {},
   "outputs": [
    {
     "data": {
      "text/plain": [
       "(torch.Size([32, 22]),\n",
       " tensor([2, 1, 2, 2, 2, 0, 0, 2, 1, 1, 0, 1, 1, 0, 0, 0, 1, 3, 0, 1, 2, 3, 1, 2,\n",
       "         1, 0, 1, 2, 0, 0, 1, 0]))"
      ]
     },
     "execution_count": 10,
     "metadata": {},
     "output_type": "execute_result"
    }
   ],
   "source": [
    "x, y = next(trainstreamer)\n",
    "x.shape, y\n"
   ]
  },
  {
   "cell_type": "markdown",
   "metadata": {},
   "source": [
    "your explanation here"
   ]
  },
  {
   "cell_type": "markdown",
   "metadata": {},
   "source": [
    "# 6 Tune the model\n",
    "Don't overdo this.\n",
    "More is not better.\n",
    "\n",
    "Bonus points for things like:\n",
    "- Attention layers\n",
    "- Trax architecture including a functioning training loop\n",
    "\n",
    "Keep it small! It's better to present 2 or 3 sane experiments that are structured and thought trough, than 25 random guesses. You can test more, but select 2 or 3 of the best alternatives you researched, with a rationale why this works better.\n",
    "\n",
    "Keep it concise; explain:\n",
    "- what you changed\n",
    "- why you thought that was a good idea  \n",
    "- what the impact was (visualise or numeric)\n",
    "- explain the impact\n",
    "\n",
    "You dont need to get a perfect score; curiousity driven research that fails is fine.\n",
    "The insight into what is happening is more important than the quantity.\n",
    "\n",
    "Keep logs of your settings;\n",
    "either use gin, or save configs, or both :)\n",
    "Store images in the `figures` folder."
   ]
  },
  {
   "cell_type": "markdown",
   "metadata": {},
   "source": [
    "<b>We choose to implement the model in Traxx.\n",
    "We also implement a simple learning rate scheduler "
   ]
  },
  {
   "cell_type": "code",
   "execution_count": 11,
   "metadata": {},
   "outputs": [
    {
     "name": "stderr",
     "output_type": "stream",
     "text": [
      "2022-06-28 11:12:04.516853: W tensorflow/stream_executor/platform/default/dso_loader.cc:64] Could not load dynamic library 'libcudart.so.11.0'; dlerror: libcudart.so.11.0: cannot open shared object file: No such file or directory\n"
     ]
    }
   ],
   "source": [
    "\n",
    "import jax.numpy as jnp\n",
    "import trax\n",
    "from trax.supervised.lr_schedules import warmup_and_rsqrt_decay\n",
    "from trax.layers.assert_shape import assert_shape\n",
    "from trax.layers import combinators as cb\n",
    "from trax.shapes import signature\n",
    "from trax import layers as tl\n",
    "from typing import Dict\n",
    "\n",
    "# implement a learning rate scheduler\n",
    "lr = warmup_and_rsqrt_decay(100, 0.01)\n",
    "\n",
    "\n"
   ]
  },
  {
   "cell_type": "markdown",
   "metadata": {},
   "source": [
    "First we create a pipeline using the streamers we already have"
   ]
  },
  {
   "cell_type": "code",
   "execution_count": 12,
   "metadata": {},
   "outputs": [],
   "source": [
    "def Cast():\n",
    "    def f(generator):\n",
    "        for x, y in generator:\n",
    "            yield x.numpy(), y.numpy()\n",
    "\n",
    "    return lambda g: f(g)"
   ]
  },
  {
   "cell_type": "code",
   "execution_count": 13,
   "metadata": {},
   "outputs": [],
   "source": [
    "data_pipeline = trax.data.Serial(Cast())\n",
    "trainpipe = data_pipeline(trainstreamer)\n",
    "testpipe = data_pipeline(teststreamer)"
   ]
  },
  {
   "cell_type": "code",
   "execution_count": 14,
   "metadata": {},
   "outputs": [
    {
     "data": {
      "text/plain": [
       "(numpy.ndarray, numpy.ndarray)"
      ]
     },
     "execution_count": 14,
     "metadata": {},
     "output_type": "execute_result"
    }
   ],
   "source": [
    "X, y = next(trainpipe)\n",
    "type(X), type(y)\n"
   ]
  },
  {
   "cell_type": "markdown",
   "metadata": {},
   "source": [
    "We create a simple function to write to config."
   ]
  },
  {
   "cell_type": "code",
   "execution_count": 15,
   "metadata": {},
   "outputs": [],
   "source": [
    "def write_config(dir: str, config: dict, model: trax.layers.combinators.Serial) -> None:\n",
    "    path = dir / \"saved_config.json\"\n",
    "    with open(path, \"w\") as file:\n",
    "        file.write(str(config) + str(model))"
   ]
  },
  {
   "cell_type": "code",
   "execution_count": 16,
   "metadata": {},
   "outputs": [],
   "source": [
    "config = {\n",
    "    \"vocab\": len(v),\n",
    "    \"hidden_size\": 256,\n",
    "    \"features\": 50,\n",
    "    \"output_size\": 4,\n",
    "    \"dropout\" : 0.1\n",
    "}\n",
    "\n"
   ]
  },
  {
   "cell_type": "markdown",
   "metadata": {},
   "source": [
    "# Models\n",
    "We have a multiclass classification problem using a text sequence.\n",
    "For these kinds of problems we've covered 3 models, GRU, LSTM and we've also covered .\n",
    "The performance difference between GRU and LSTM depends on the specific question and dataset. Therefore we will test them both against eachother and have a small look at the hidden size.\n",
    "To test and compare performance we've written a training/test loop in jax. We've also added a small function above to write the config.\n",
    "The confusion matrix of question 4 has been changed to work with the different outputs. After several tests with inconsistent results we decided to increase the amount of data used by the confusion matrix. This yielded much more stabile results.\n",
    "\n",
    "#First of the GRU model.\n"
   ]
  },
  {
   "cell_type": "code",
   "execution_count": 17,
   "metadata": {},
   "outputs": [],
   "source": [
    "def createCustModel(config: Dict):\n",
    "    \"\"\" A Custom model using embeddings, GRU\n",
    "    \"\"\"\n",
    "    model = tl.Serial(\n",
    "        tl.Embedding(vocab_size=config[\"vocab\"], d_feature=config[\"hidden_size\"]), #MAP to vectors\n",
    "        tl.GRU(n_units=config[\"hidden_size\"]),  #  use a gated layer to remember words from the beginning of a text to 'understand the story'\n",
    "        tl.Mean(axis=1), #  take mean values of groups of words, hopefully this generalizing will fix the overfitting we found in the last question\n",
    "        tl.Dense(config[\"output_size\"]))\n",
    "    return model\n",
    "model = createCustModel(config)\n"
   ]
  },
  {
   "cell_type": "markdown",
   "metadata": {},
   "source": [
    "The gru model performs admirably with hidden size 128. The lowest accuracy for 93% proverbs is very impressive.\n",
    "02 style detection Image confusion matrix trax gru 128.png\n",
    "We've also tested increasing the hidden size to 256 and this lead to somewhat worse results:\n",
    "02 style detection Image confusion matrix trax gru 256.png\n",
    "\n",
    "# The LSTM Model"
   ]
  },
  {
   "cell_type": "code",
   "execution_count": 18,
   "metadata": {},
   "outputs": [],
   "source": [
    "def createCustModel2(config: Dict):\n",
    "    \"\"\" A Custom model using embeddings, LSTM\n",
    "    \"\"\"\n",
    "    model = tl.Serial(\n",
    "        tl.Embedding(vocab_size=config[\"vocab\"], d_feature=config[\"hidden_size\"]), #MAP to vectors\n",
    "        trax.layers.rnn.LSTM(n_units=config[\"hidden_size\"]),  #  use a lstm layer\n",
    "        tl.Mean(axis=1), #  take mean values of groups of words, hopefully this generalizing will fix the overfitting we found in the last question\n",
    "        tl.Dense(config[\"output_size\"]))\n",
    "    return model\n",
    "model = createCustModel2(config)"
   ]
  },
  {
   "cell_type": "markdown",
   "metadata": {},
   "source": [
    "The LSTM model performs better on provebs but slightly worse on the other categories with hidden size 128. The lowest accuracy for 94.5% (see note) is very good. : 02 style detection Image confusion matrix trax lstm 128.png\n",
    "We've also tested increasing the hidden size to 256 and this lead to sslightly better results. The proverbs now scare 95.7% and all other categories have a score of over 99%. Not too bad : 02 style detection Image confusion matrix trax gru 256.png\n",
    "\n",
    "<b>Note:</b> Initially the results we got comparing the GRU and LSTM models were inconsistent. This was due to the low amount of data in the confusion matrix. After increasing this data tenfold we got much more consistent results.\n",
    "\n",
    "Conclusion: bot the GRU and LSTM models using embeddings perform very well on this dataset. LSTM seems to do a little better, but looking at the accuracy rates.png image we see all 4 methods (GRU128/256 and LSTM128/256) reaching about the same limit.\n"
   ]
  },
  {
   "cell_type": "code",
   "execution_count": 19,
   "metadata": {},
   "outputs": [
    {
     "name": "stderr",
     "output_type": "stream",
     "text": [
      "WARNING:absl:No GPU/TPU found, falling back to CPU. (Set TF_CPP_MIN_LOG_LEVEL=0 and rerun for more info.)\n"
     ]
    },
    {
     "data": {
      "text/plain": [
       "DeviceArray([[-1.3068055 ,  0.08752393, -0.49463323, -0.0690266 ],\n",
       "             [-1.29544   ,  0.07706412, -0.50108457, -0.06702597],\n",
       "             [-1.3008224 ,  0.0846278 , -0.49903283, -0.06809334],\n",
       "             [-1.2970471 ,  0.07660733, -0.4977098 , -0.07212757],\n",
       "             [-1.3067197 ,  0.08589704, -0.4974607 , -0.07286545],\n",
       "             [-1.3058218 ,  0.08238399, -0.4959039 , -0.06930571],\n",
       "             [-1.2960705 ,  0.07782198, -0.49934113, -0.06650162],\n",
       "             [-1.2952679 ,  0.07514658, -0.5015878 , -0.06870562],\n",
       "             [-1.3097665 ,  0.10132855, -0.4902794 , -0.06978413],\n",
       "             [-1.3003281 ,  0.08241282, -0.49766716, -0.06781425],\n",
       "             [-1.2996767 ,  0.08414169, -0.4954897 , -0.06891981],\n",
       "             [-1.3020564 ,  0.08244856, -0.4962064 , -0.0717025 ],\n",
       "             [-1.3087656 ,  0.09128572, -0.493282  , -0.06873842],\n",
       "             [-1.2980204 ,  0.08297847, -0.496732  , -0.06970069],\n",
       "             [-1.2981089 ,  0.08017444, -0.4987018 , -0.06730868],\n",
       "             [-1.3135312 ,  0.10112504, -0.49654326, -0.06986585],\n",
       "             [-1.2982652 ,  0.07691867, -0.49927533, -0.06974178],\n",
       "             [-1.303548  ,  0.09330209, -0.4968053 , -0.06698862],\n",
       "             [-1.2971734 ,  0.07570776, -0.49872485, -0.07024379],\n",
       "             [-1.3016905 ,  0.08244299, -0.50119823, -0.06991278],\n",
       "             [-1.3038143 ,  0.08957167, -0.49160087, -0.06644012],\n",
       "             [-1.312409  ,  0.10098305, -0.48753312, -0.07099228],\n",
       "             [-1.301521  ,  0.09311835, -0.49072492, -0.06774898],\n",
       "             [-1.2996243 ,  0.08738819, -0.49237096, -0.07265241],\n",
       "             [-1.3085626 ,  0.09871182, -0.48546427, -0.06737643],\n",
       "             [-1.2978507 ,  0.0813354 , -0.49987292, -0.06742851],\n",
       "             [-1.3037763 ,  0.08461246, -0.49763438, -0.06841892],\n",
       "             [-1.3015469 ,  0.08102443, -0.4967746 , -0.06939635],\n",
       "             [-1.311348  ,  0.09052351, -0.4860066 , -0.070871  ],\n",
       "             [-1.3012927 ,  0.08860286, -0.5002075 , -0.07023393],\n",
       "             [-1.2998186 ,  0.08414826, -0.50113434, -0.07101638],\n",
       "             [-1.3001089 ,  0.0845969 , -0.4969583 , -0.06763718]],            dtype=float32)"
      ]
     },
     "execution_count": 19,
     "metadata": {},
     "output_type": "execute_result"
    }
   ],
   "source": [
    "# let's test a single prediction\n",
    "model.init_weights_and_state(X)\n",
    "ytest = model(X)\n",
    "ytest"
   ]
  },
  {
   "cell_type": "code",
   "execution_count": 20,
   "metadata": {},
   "outputs": [
    {
     "name": "stderr",
     "output_type": "stream",
     "text": [
      "2022-06-28 11:12:53.124 | INFO     | src.data.data_tools:dir_add_timestamp:78 - Logging to ../tune/20220628-1112\n",
      "/home/mladmin/.cache/pypoetry/virtualenvs/exam-22-AI0Wnuoo-py3.9/lib/python3.9/site-packages/jax/_src/lib/xla_bridge.py:514: UserWarning: jax.host_count has been renamed to jax.process_count. This alias will eventually be removed; please update your code.\n",
      "  warnings.warn(\n"
     ]
    }
   ],
   "source": [
    "from trax.supervised import training\n",
    "import trax\n",
    "from trax import layers as tl\n",
    "\n",
    "log_dir = \"../tune\"\n",
    "log_dir = data_tools.dir_add_timestamp(log_dir)\n",
    "\n",
    "write_config(log_dir, config, model)\n",
    "\n",
    "train_task = training.TrainTask(\n",
    "    labeled_data=trainpipe,\n",
    "    loss_layer=tl.CategoryCrossEntropy(),\n",
    "    optimizer=trax.optimizers.Adam(),\n",
    "    lr_schedule=lr, # use the lossrate scheduler\n",
    "    n_steps_per_checkpoint=100, \n",
    ")\n",
    "\n",
    "eval_task = training.EvalTask(\n",
    "    labeled_data=testpipe, metrics=[tl.CategoryAccuracy(), tl.CategoryCrossEntropy()], n_eval_batches=25\n",
    ")\n",
    "\n",
    "loop = training.Loop(\n",
    "    model,\n",
    "    train_task,\n",
    "    eval_tasks=[eval_task],\n",
    "    output_dir=log_dir,\n",
    ")"
   ]
  },
  {
   "cell_type": "code",
   "execution_count": 21,
   "metadata": {},
   "outputs": [
    {
     "name": "stderr",
     "output_type": "stream",
     "text": [
      "/home/mladmin/.cache/pypoetry/virtualenvs/exam-22-AI0Wnuoo-py3.9/lib/python3.9/site-packages/trax/layers/base.py:851: FutureWarning: GzipFile was opened for writing, but this will change in future Python releases.  Specify the mode argument for opening it for writing.\n",
      "  with gzip.GzipFile(fileobj=f, compresslevel=compresslevel) as gzipf:\n"
     ]
    },
    {
     "name": "stdout",
     "output_type": "stream",
     "text": [
      "\n",
      "Step      1: Total number of trainable weights: 5469188\n",
      "Step      1: Ran 1 train steps in 3.18 secs\n",
      "Step      1: train CategoryCrossEntropy |  1.61792862\n"
     ]
    },
    {
     "name": "stderr",
     "output_type": "stream",
     "text": [
      "/home/mladmin/.cache/pypoetry/virtualenvs/exam-22-AI0Wnuoo-py3.9/lib/python3.9/site-packages/trax/supervised/training.py:1249: FutureWarning: GzipFile was opened for writing, but this will change in future Python releases.  Specify the mode argument for opening it for writing.\n",
      "  with gzip_lib.GzipFile(fileobj=f, compresslevel=2) as gzipf:\n"
     ]
    },
    {
     "name": "stdout",
     "output_type": "stream",
     "text": [
      "Step      1: eval      CategoryAccuracy |  0.33000000\n",
      "Step      1: eval  CategoryCrossEntropy |  1.55515612\n",
      "\n",
      "Step    100: Ran 99 train steps in 60.76 secs\n",
      "Step    100: train CategoryCrossEntropy |  1.04110670\n",
      "Step    100: eval      CategoryAccuracy |  0.82000000\n",
      "Step    100: eval  CategoryCrossEntropy |  0.49386742\n",
      "\n",
      "Step    200: Ran 100 train steps in 21.08 secs\n",
      "Step    200: train CategoryCrossEntropy |  0.41259167\n",
      "Step    200: eval      CategoryAccuracy |  0.87875000\n",
      "Step    200: eval  CategoryCrossEntropy |  0.36403027\n",
      "\n",
      "Step    300: Ran 100 train steps in 19.72 secs\n",
      "Step    300: train CategoryCrossEntropy |  0.31493673\n",
      "Step    300: eval      CategoryAccuracy |  0.90500000\n",
      "Step    300: eval  CategoryCrossEntropy |  0.26179934\n",
      "\n",
      "Step    400: Ran 100 train steps in 14.24 secs\n",
      "Step    400: train CategoryCrossEntropy |  0.24829519\n",
      "Step    400: eval      CategoryAccuracy |  0.91625000\n",
      "Step    400: eval  CategoryCrossEntropy |  0.24251591\n",
      "\n",
      "Step    500: Ran 100 train steps in 12.69 secs\n",
      "Step    500: train CategoryCrossEntropy |  0.11331395\n",
      "Step    500: eval      CategoryAccuracy |  0.91250000\n",
      "Step    500: eval  CategoryCrossEntropy |  0.24624176\n",
      "\n",
      "Step    600: Ran 100 train steps in 14.88 secs\n",
      "Step    600: train CategoryCrossEntropy |  0.09744320\n",
      "Step    600: eval      CategoryAccuracy |  0.91625000\n",
      "Step    600: eval  CategoryCrossEntropy |  0.24098515\n",
      "\n",
      "Step    700: Ran 100 train steps in 14.55 secs\n",
      "Step    700: train CategoryCrossEntropy |  0.10575663\n",
      "Step    700: eval      CategoryAccuracy |  0.93000000\n",
      "Step    700: eval  CategoryCrossEntropy |  0.19678352\n",
      "\n",
      "Step    800: Ran 100 train steps in 13.02 secs\n",
      "Step    800: train CategoryCrossEntropy |  0.09834556\n",
      "Step    800: eval      CategoryAccuracy |  0.92125000\n",
      "Step    800: eval  CategoryCrossEntropy |  0.24292866\n",
      "\n",
      "Step    900: Ran 100 train steps in 12.95 secs\n",
      "Step    900: train CategoryCrossEntropy |  0.06092066\n",
      "Step    900: eval      CategoryAccuracy |  0.92875000\n",
      "Step    900: eval  CategoryCrossEntropy |  0.22574772\n",
      "\n",
      "Step   1000: Ran 100 train steps in 12.93 secs\n",
      "Step   1000: train CategoryCrossEntropy |  0.03084487\n",
      "Step   1000: eval      CategoryAccuracy |  0.92875000\n",
      "Step   1000: eval  CategoryCrossEntropy |  0.24782434\n"
     ]
    }
   ],
   "source": [
    "loop.run(1000)"
   ]
  },
  {
   "cell_type": "code",
   "execution_count": 22,
   "metadata": {},
   "outputs": [
    {
     "name": "stdout",
     "output_type": "stream",
     "text": [
      "1\n",
      "1\n"
     ]
    }
   ],
   "source": [
    "# test a prediction\n",
    "X, y = next(trainpipe)\n",
    "\n",
    "yhat = model(X)\n",
    "print(y[0])\n",
    "print(yhat[0].argmax())\n"
   ]
  },
  {
   "cell_type": "code",
   "execution_count": 27,
   "metadata": {},
   "outputs": [
    {
     "name": "stdout",
     "output_type": "stream",
     "text": [
      "0-2\n",
      "3-2\n",
      "3-2\n"
     ]
    }
   ],
   "source": [
    "X, y = next(testpipe)\n",
    "yhat = model(X)\n",
    "\n",
    "for i in range(0,len(y)):\n",
    "    yhati = yhat[i].argmax()\n",
    "    if y[i] != yhati:\n",
    "        print(str(y[i]) + \"-\" + str(yhati))\n"
   ]
  },
  {
   "cell_type": "markdown",
   "metadata": {},
   "source": [
    "Let's create a new confusion matrix to see how it performs."
   ]
  },
  {
   "cell_type": "code",
   "execution_count": 24,
   "metadata": {},
   "outputs": [
    {
     "name": "stderr",
     "output_type": "stream",
     "text": [
      "/home/mladmin/.cache/pypoetry/virtualenvs/exam-22-AI0Wnuoo-py3.9/lib/python3.9/site-packages/seaborn/rcmod.py:400: DeprecationWarning: distutils Version classes are deprecated. Use packaging.version instead.\n",
      "  if LooseVersion(mpl.__version__) >= \"3.0\":\n",
      "/home/mladmin/.cache/pypoetry/virtualenvs/exam-22-AI0Wnuoo-py3.9/lib/python3.9/site-packages/setuptools/_distutils/version.py:351: DeprecationWarning: distutils Version classes are deprecated. Use packaging.version instead.\n",
      "  other = LooseVersion(other)\n"
     ]
    },
    {
     "data": {
      "text/plain": [
       "<AxesSubplot:xlabel='Predicted', ylabel='Target'>"
      ]
     },
     "execution_count": 24,
     "metadata": {},
     "output_type": "execute_result"
    },
    {
     "data": {
      "image/png": "[encoded data removed]",
      "text/plain": [
       "<Figure size 1080x576 with 2 Axes>"
      ]
     },
     "metadata": {},
     "output_type": "display_data"
    }
   ],
   "source": [
    "import matplotlib.pyplot as plt\n",
    "%matplotlib inline\n",
    "from sklearn.metrics import confusion_matrix\n",
    "sns.set(rc = {'figure.figsize':(15,8)})\n",
    "y_true = []\n",
    "y_pred = []\n",
    "\n",
    "for _ in range(100): #increase the range for better prediction\n",
    "    X, y = next(trainpipe)\n",
    "    yhat = model(X)\n",
    "    predlist = list()\n",
    "    truelist = list()\n",
    "    for ytrue in y:\n",
    "        truelist.append(int(ytrue))\n",
    "    for yh1 in yhat:\n",
    "        predlist.append(int(yh1.argmax()))    \n",
    "    y_pred.append(predlist)\n",
    "    y_true.append(truelist)\n",
    "\n",
    "\n",
    "yhat = [x for y in y_pred for x in y]\n",
    "y = [x for y in y_true for x in y]\n",
    "\n",
    "cfm = confusion_matrix(y, yhat)\n",
    "cfm_norm = cfm / np.sum(cfm, axis=1, keepdims=True)\n",
    "plot = sns.heatmap(cfm_norm, annot=cfm_norm, fmt=\".3f\")\n",
    "plot.set(xlabel=\"Predicted\", ylabel=\"Target\")\n",
    "plot"
   ]
  },
  {
   "cell_type": "markdown",
   "metadata": {},
   "source": [
    "Both the GRU and LSTM models perform much better then the original"
   ]
  },
  {
   "cell_type": "markdown",
   "metadata": {},
   "source": []
  }
 ],
 "metadata": {
  "kernelspec": {
   "display_name": "Python 3.9.12 ('exam-22-AI0Wnuoo-py3.9': venv)",
   "language": "python",
   "name": "python3"
  },
  "language_info": {
   "codemirror_mode": {
    "name": "ipython",
    "version": 3
   },
   "file_extension": ".py",
   "mimetype": "text/x-python",
   "name": "python",
   "nbconvert_exporter": "python",
   "pygments_lexer": "ipython3",
   "version": "3.9.12"
  },
  "orig_nbformat": 4,
  "vscode": {
   "interpreter": {
    "hash": "6d57a7918acd5cf669aaceacf2060ac2c2f5aaba7f78c29525f8bc7602b3692a"
   }
  }
 },
 "nbformat": 4,
 "nbformat_minor": 2
}
