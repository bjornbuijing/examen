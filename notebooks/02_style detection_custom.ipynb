{
 "cells": [
  {
   "cell_type": "code",
   "execution_count": 1,
   "metadata": {},
   "outputs": [],
   "source": [
    "import sys\n",
    "sys.path.insert(0, \"..\")\n",
    "from src.settings import StyleSettings\n",
    "from src.data.data_tools import StyleDataset\n",
    "import numpy as np\n",
    "import seaborn as sns\n"
   ]
  },
  {
   "cell_type": "markdown",
   "metadata": {},
   "source": [
    "# Implementation of question 6 a custom model to try to improve performance"
   ]
  },
  {
   "cell_type": "markdown",
   "metadata": {},
   "source": [
    "# Load the data"
   ]
  },
  {
   "cell_type": "code",
   "execution_count": 2,
   "metadata": {},
   "outputs": [],
   "source": [
    "settings = StyleSettings()\n",
    "traindataset = StyleDataset([settings.trainpath])\n",
    "testdataset = StyleDataset([settings.testpath])\n"
   ]
  },
  {
   "cell_type": "markdown",
   "metadata": {},
   "source": [
    "We have 419 batches in the dataset"
   ]
  },
  {
   "cell_type": "code",
   "execution_count": 4,
   "metadata": {},
   "outputs": [
    {
     "data": {
      "text/plain": [
       "419"
      ]
     },
     "execution_count": 4,
     "metadata": {},
     "output_type": "execute_result"
    }
   ],
   "source": [
    "len(traindataset) // 32\n"
   ]
  },
  {
   "cell_type": "code",
   "execution_count": 3,
   "metadata": {},
   "outputs": [
    {
     "data": {
      "text/plain": [
       "('Lace is an openwork fabric , patterned with open holes in the work , made by machine or by hand.',\n",
       " 'wiki')"
      ]
     },
     "execution_count": 3,
     "metadata": {},
     "output_type": "execute_result"
    }
   ],
   "source": [
    "x, y = traindataset[42]\n",
    "x, y\n"
   ]
  },
  {
   "cell_type": "markdown",
   "metadata": {},
   "source": [
    "Every batch is a `Tuple[str, str]` of a sentence and a label. We can see this is a classification task.\n",
    "The task is, to classify sentences in four categories.\n",
    "Lets build a vocabulary by copy-pasting the code we used before"
   ]
  },
  {
   "cell_type": "code",
   "execution_count": 4,
   "metadata": {},
   "outputs": [
    {
     "name": "stderr",
     "output_type": "stream",
     "text": [
      "2022-06-27 11:41:43.465 | INFO     | src.models.tokenizer:build_vocab:27 - Found 19306 tokens\n"
     ]
    },
    {
     "data": {
      "text/plain": [
       "19308"
      ]
     },
     "execution_count": 4,
     "metadata": {},
     "output_type": "execute_result"
    }
   ],
   "source": [
    "from src.models import tokenizer\n",
    "\n",
    "corpus = []\n",
    "for i in range(len(traindataset)):\n",
    "    x = tokenizer.clean(traindataset[i][0])\n",
    "    corpus.append(x)\n",
    "v = tokenizer.build_vocab(corpus, max=20000)\n",
    "len(v)\n"
   ]
  },
  {
   "cell_type": "markdown",
   "metadata": {},
   "source": [
    "We need to cast the labels to an integers. You can use this dictionary to do so:"
   ]
  },
  {
   "cell_type": "code",
   "execution_count": 7,
   "metadata": {},
   "outputs": [
    {
     "data": {
      "text/plain": [
       "2"
      ]
     },
     "execution_count": 7,
     "metadata": {},
     "output_type": "execute_result"
    }
   ],
   "source": [
    "d = {\"humor\": 0, \"reuters\": 1, \"wiki\": 2, \"proverbs\": 3}\n",
    "d[y]\n"
   ]
  },
  {
   "cell_type": "markdown",
   "metadata": {},
   "source": [
    "# Question 2 : Implement a preprocessor\n",
    "\n",
    "We can inherit from `tokenizer.Preprocessor`\n",
    "Only thing we need to adjust is the `cast_label` function.\n",
    " \n",
    "- create a StylePreprocessor class\n",
    "- inherit from Preprocessor\n",
    "- create a new cast_label function for this dataset"
   ]
  },
  {
   "cell_type": "code",
   "execution_count": 5,
   "metadata": {},
   "outputs": [],
   "source": [
    "\n",
    "# TODO ~ about 4 lines of code\n",
    "class StylePreprocessor(tokenizer.Preprocessor):\n",
    "    def cast_label(self, label: str) -> int:\n",
    "        d = {\"humor\": 0, \"reuters\": 1, \"wiki\": 2, \"proverbs\": 3}\n",
    "        return d[label]\n",
    "    pass\n"
   ]
  },
  {
   "cell_type": "markdown",
   "metadata": {},
   "source": [
    "To test the preprocessor:"
   ]
  },
  {
   "cell_type": "code",
   "execution_count": 6,
   "metadata": {},
   "outputs": [
    {
     "data": {
      "text/plain": [
       "(tensor([[4929,  854,   32,   15,  499,   21, 8496,  890]], dtype=torch.int32),\n",
       " tensor([2]))"
      ]
     },
     "execution_count": 6,
     "metadata": {},
     "output_type": "execute_result"
    }
   ],
   "source": [
    "preprocessor = StylePreprocessor(max=100, vocab=v, clean=tokenizer.clean)\n",
    "preprocessor([(x, y)])\n"
   ]
  },
  {
   "cell_type": "markdown",
   "metadata": {},
   "source": [
    "# Set up the model\n",
    "We can re-use the BaseDatastreamer"
   ]
  },
  {
   "cell_type": "code",
   "execution_count": 7,
   "metadata": {},
   "outputs": [],
   "source": [
    "from src.data import data_tools\n",
    "\n",
    "trainstreamer = data_tools.BaseDatastreamer(\n",
    "    dataset=traindataset, batchsize=32, preprocessor=preprocessor\n",
    ").stream()\n",
    "teststreamer = data_tools.BaseDatastreamer(\n",
    "    dataset=testdataset, batchsize=32, preprocessor=preprocessor\n",
    ").stream()\n"
   ]
  },
  {
   "cell_type": "code",
   "execution_count": 8,
   "metadata": {},
   "outputs": [
    {
     "data": {
      "text/plain": [
       "(torch.Size([32, 30]),\n",
       " tensor([2, 1, 1, 0, 1, 1, 1, 2, 2, 1, 0, 1, 1, 0, 1, 1, 1, 2, 1, 1, 0, 1, 0, 2,\n",
       "         3, 0, 0, 2, 1, 2, 0, 0]))"
      ]
     },
     "execution_count": 8,
     "metadata": {},
     "output_type": "execute_result"
    }
   ],
   "source": [
    "x, y = next(trainstreamer)\n",
    "x.shape, y\n"
   ]
  },
  {
   "cell_type": "markdown",
   "metadata": {},
   "source": [
    "your explanation here"
   ]
  },
  {
   "cell_type": "markdown",
   "metadata": {},
   "source": [
    "# 6 Tune the model\n",
    "Don't overdo this.\n",
    "More is not better.\n",
    "\n",
    "Bonus points for things like:\n",
    "- Attention layers\n",
    "- Trax architecture including a functioning training loop\n",
    "\n",
    "Keep it small! It's better to present 2 or 3 sane experiments that are structured and thought trough, than 25 random guesses. You can test more, but select 2 or 3 of the best alternatives you researched, with a rationale why this works better.\n",
    "\n",
    "Keep it concise; explain:\n",
    "- what you changed\n",
    "- why you thought that was a good idea  \n",
    "- what the impact was (visualise or numeric)\n",
    "- explain the impact\n",
    "\n",
    "You dont need to get a perfect score; curiousity driven research that fails is fine.\n",
    "The insight into what is happening is more important than the quantity.\n",
    "\n",
    "Keep logs of your settings;\n",
    "either use gin, or save configs, or both :)\n",
    "Store images in the `figures` folder."
   ]
  },
  {
   "cell_type": "markdown",
   "metadata": {},
   "source": [
    "<b>We choose to implement the model in Traxx.\n",
    "We also implement a simple learning rate scheduler "
   ]
  },
  {
   "cell_type": "code",
   "execution_count": 9,
   "metadata": {},
   "outputs": [
    {
     "name": "stderr",
     "output_type": "stream",
     "text": [
      "2022-06-27 11:41:58.550559: W tensorflow/stream_executor/platform/default/dso_loader.cc:64] Could not load dynamic library 'libcudart.so.11.0'; dlerror: libcudart.so.11.0: cannot open shared object file: No such file or directory\n"
     ]
    }
   ],
   "source": [
    "\n",
    "import jax.numpy as jnp\n",
    "import trax\n",
    "from trax.supervised.lr_schedules import warmup_and_rsqrt_decay\n",
    "from trax.layers.assert_shape import assert_shape\n",
    "from trax.layers import combinators as cb\n",
    "from trax.shapes import signature\n",
    "from trax import layers as tl\n",
    "from typing import Dict\n",
    "\n",
    "# implement a learning rate scheduler\n",
    "lr = warmup_and_rsqrt_decay(100, 0.01)\n",
    "\n",
    "\n"
   ]
  },
  {
   "cell_type": "markdown",
   "metadata": {},
   "source": [
    "First we create a pipeline using the streamers we already have"
   ]
  },
  {
   "cell_type": "code",
   "execution_count": 10,
   "metadata": {},
   "outputs": [],
   "source": [
    "def Cast():\n",
    "    def f(generator):\n",
    "        for x, y in generator:\n",
    "            yield x.numpy(), y.numpy()\n",
    "\n",
    "    return lambda g: f(g)"
   ]
  },
  {
   "cell_type": "code",
   "execution_count": 11,
   "metadata": {},
   "outputs": [],
   "source": [
    "data_pipeline = trax.data.Serial(Cast())\n",
    "trainpipe = data_pipeline(trainstreamer)\n",
    "testpipe = data_pipeline(teststreamer)"
   ]
  },
  {
   "cell_type": "code",
   "execution_count": 12,
   "metadata": {},
   "outputs": [
    {
     "data": {
      "text/plain": [
       "(numpy.ndarray, numpy.ndarray)"
      ]
     },
     "execution_count": 12,
     "metadata": {},
     "output_type": "execute_result"
    }
   ],
   "source": [
    "X, y = next(trainpipe)\n",
    "type(X), type(y)\n"
   ]
  },
  {
   "cell_type": "markdown",
   "metadata": {},
   "source": [
    "We create a simple function to write to config."
   ]
  },
  {
   "cell_type": "code",
   "execution_count": 13,
   "metadata": {},
   "outputs": [],
   "source": [
    "def write_config(dir: str, config: dict, model: trax.layers.combinators.Serial) -> None:\n",
    "    path = dir / \"saved_config.json\"\n",
    "    with open(path, \"w\") as file:\n",
    "        file.write(str(config) + str(model))"
   ]
  },
  {
   "cell_type": "code",
   "execution_count": 14,
   "metadata": {},
   "outputs": [],
   "source": [
    "config = {\n",
    "    \"vocab\": len(v),\n",
    "    \"hidden_size\": 128,\n",
    "    \"features\": 50,\n",
    "    \"output_size\": 4,\n",
    "    \"dropout\" : 0.1\n",
    "}\n",
    "\n"
   ]
  },
  {
   "cell_type": "markdown",
   "metadata": {},
   "source": [
    "# Models\n",
    "We have a multiclass classification problem using a text sequence.\n",
    "For these kinds of problems we've covered 3 models, GRU, LSTM.\n"
   ]
  },
  {
   "cell_type": "code",
   "execution_count": 73,
   "metadata": {},
   "outputs": [],
   "source": [
    "def createCustModel(config: Dict):\n",
    "    \"\"\" A Custom model using embeddings, GRU\n",
    "    \"\"\"\n",
    "    model = tl.Serial(\n",
    "        tl.Embedding(vocab_size=config[\"vocab\"], d_feature=config[\"hidden_size\"]), #MAP to vectors\n",
    "        tl.GRU(n_units=config[\"hidden_size\"]),  #  use a gated layer to remember words from the beginning of a text to 'understand the story'\n",
    "        tl.Mean(axis=1), #  take mean values of groups of words, hopefully this generalizing will fix the overfitting we found in the last question\n",
    "        tl.Dense(config[\"output_size\"]))\n",
    "    return model\n",
    "model = createCustModel(config)\n"
   ]
  },
  {
   "cell_type": "code",
   "execution_count": 82,
   "metadata": {},
   "outputs": [],
   "source": [
    "def createCustModel2(config: Dict):\n",
    "    model = tl.Serial(\n",
    "        tl.Embedding(vocab_size=config[\"vocab\"], d_feature=config[\"hidden_size\"]), #MAP to vectors\n",
    "        trax.layers.rnn.LSTM(n_units=config[\"hidden_size\"]),  #  use a lstm layer\n",
    "        tl.Mean(axis=1), #  take mean values of groups of words, hopefully this generalizing will fix the overfitting we found in the last question\n",
    "        tl.Dense(config[\"output_size\"]))\n",
    "    return model\n",
    "model = createCustModel2(config)"
   ]
  },
  {
   "cell_type": "code",
   "execution_count": 39,
   "metadata": {},
   "outputs": [
    {
     "ename": "TypeError",
     "evalue": "__init__() got an unexpected keyword argument 'd_feature'\n  In call to configurable 'DotProductCausalAttention' (<class 'trax.layers.attention.DotProductCausalAttention'>)",
     "output_type": "error",
     "traceback": [
      "\u001b[0;31m---------------------------------------------------------------------------\u001b[0m",
      "\u001b[0;31mTypeError\u001b[0m                                 Traceback (most recent call last)",
      "\u001b[1;32m/home/mladmin/code/examen/notebooks/02_style detection_custom.ipynb Cell 33'\u001b[0m in \u001b[0;36m<cell line: 11>\u001b[0;34m()\u001b[0m\n\u001b[1;32m      <a href='vscode-notebook-cell://ssh-remote%2Bml-lab-499b0cc0-f0fa-444d-a905-b2d2bead7477.westeurope.cloudapp.azure.com/home/mladmin/code/examen/notebooks/02_style%20detection_custom.ipynb#ch0000046vscode-remote?line=4'>5</a>\u001b[0m     model \u001b[39m=\u001b[39m tl\u001b[39m.\u001b[39mSerial(\n\u001b[1;32m      <a href='vscode-notebook-cell://ssh-remote%2Bml-lab-499b0cc0-f0fa-444d-a905-b2d2bead7477.westeurope.cloudapp.azure.com/home/mladmin/code/examen/notebooks/02_style%20detection_custom.ipynb#ch0000046vscode-remote?line=5'>6</a>\u001b[0m         tl\u001b[39m.\u001b[39mEmbedding(vocab_size\u001b[39m=\u001b[39mconfig[\u001b[39m\"\u001b[39m\u001b[39mvocab\u001b[39m\u001b[39m\"\u001b[39m], d_feature\u001b[39m=\u001b[39mconfig[\u001b[39m\"\u001b[39m\u001b[39mhidden_size\u001b[39m\u001b[39m\"\u001b[39m]), \u001b[39m#MAP to vectors\u001b[39;00m\n\u001b[1;32m      <a href='vscode-notebook-cell://ssh-remote%2Bml-lab-499b0cc0-f0fa-444d-a905-b2d2bead7477.westeurope.cloudapp.azure.com/home/mladmin/code/examen/notebooks/02_style%20detection_custom.ipynb#ch0000046vscode-remote?line=6'>7</a>\u001b[0m         tl\u001b[39m.\u001b[39mDotProductCausalAttention(d_feature\u001b[39m=\u001b[39mconfig[\u001b[39m\"\u001b[39m\u001b[39mhidden_size\u001b[39m\u001b[39m\"\u001b[39m], dropout\u001b[39m=\u001b[39mconfig[\u001b[39m\"\u001b[39m\u001b[39mdropout\u001b[39m\u001b[39m\"\u001b[39m]),  \u001b[39m#  use an attention layer\u001b[39;00m\n\u001b[1;32m      <a href='vscode-notebook-cell://ssh-remote%2Bml-lab-499b0cc0-f0fa-444d-a905-b2d2bead7477.westeurope.cloudapp.azure.com/home/mladmin/code/examen/notebooks/02_style%20detection_custom.ipynb#ch0000046vscode-remote?line=7'>8</a>\u001b[0m         tl\u001b[39m.\u001b[39mMean(axis\u001b[39m=\u001b[39m\u001b[39m1\u001b[39m), \u001b[39m#  take mean values of groups of words, hopefully this generalizing will fix the overfitting we found in the last question\u001b[39;00m\n\u001b[1;32m      <a href='vscode-notebook-cell://ssh-remote%2Bml-lab-499b0cc0-f0fa-444d-a905-b2d2bead7477.westeurope.cloudapp.azure.com/home/mladmin/code/examen/notebooks/02_style%20detection_custom.ipynb#ch0000046vscode-remote?line=8'>9</a>\u001b[0m         tl\u001b[39m.\u001b[39mDense(config[\u001b[39m\"\u001b[39m\u001b[39moutput_size\u001b[39m\u001b[39m\"\u001b[39m]))\n\u001b[1;32m     <a href='vscode-notebook-cell://ssh-remote%2Bml-lab-499b0cc0-f0fa-444d-a905-b2d2bead7477.westeurope.cloudapp.azure.com/home/mladmin/code/examen/notebooks/02_style%20detection_custom.ipynb#ch0000046vscode-remote?line=9'>10</a>\u001b[0m     \u001b[39mreturn\u001b[39;00m model\n\u001b[0;32m---> <a href='vscode-notebook-cell://ssh-remote%2Bml-lab-499b0cc0-f0fa-444d-a905-b2d2bead7477.westeurope.cloudapp.azure.com/home/mladmin/code/examen/notebooks/02_style%20detection_custom.ipynb#ch0000046vscode-remote?line=10'>11</a>\u001b[0m model \u001b[39m=\u001b[39m createCustModel3(config)\n",
      "\u001b[1;32m/home/mladmin/code/examen/notebooks/02_style detection_custom.ipynb Cell 33'\u001b[0m in \u001b[0;36mcreateCustModel3\u001b[0;34m(config)\u001b[0m\n\u001b[1;32m      <a href='vscode-notebook-cell://ssh-remote%2Bml-lab-499b0cc0-f0fa-444d-a905-b2d2bead7477.westeurope.cloudapp.azure.com/home/mladmin/code/examen/notebooks/02_style%20detection_custom.ipynb#ch0000046vscode-remote?line=3'>4</a>\u001b[0m \u001b[39mdef\u001b[39;00m \u001b[39mcreateCustModel3\u001b[39m(config: Dict):\n\u001b[1;32m      <a href='vscode-notebook-cell://ssh-remote%2Bml-lab-499b0cc0-f0fa-444d-a905-b2d2bead7477.westeurope.cloudapp.azure.com/home/mladmin/code/examen/notebooks/02_style%20detection_custom.ipynb#ch0000046vscode-remote?line=4'>5</a>\u001b[0m     model \u001b[39m=\u001b[39m tl\u001b[39m.\u001b[39mSerial(\n\u001b[1;32m      <a href='vscode-notebook-cell://ssh-remote%2Bml-lab-499b0cc0-f0fa-444d-a905-b2d2bead7477.westeurope.cloudapp.azure.com/home/mladmin/code/examen/notebooks/02_style%20detection_custom.ipynb#ch0000046vscode-remote?line=5'>6</a>\u001b[0m         tl\u001b[39m.\u001b[39mEmbedding(vocab_size\u001b[39m=\u001b[39mconfig[\u001b[39m\"\u001b[39m\u001b[39mvocab\u001b[39m\u001b[39m\"\u001b[39m], d_feature\u001b[39m=\u001b[39mconfig[\u001b[39m\"\u001b[39m\u001b[39mhidden_size\u001b[39m\u001b[39m\"\u001b[39m]), \u001b[39m#MAP to vectors\u001b[39;00m\n\u001b[0;32m----> <a href='vscode-notebook-cell://ssh-remote%2Bml-lab-499b0cc0-f0fa-444d-a905-b2d2bead7477.westeurope.cloudapp.azure.com/home/mladmin/code/examen/notebooks/02_style%20detection_custom.ipynb#ch0000046vscode-remote?line=6'>7</a>\u001b[0m         tl\u001b[39m.\u001b[39;49mDotProductCausalAttention(d_feature\u001b[39m=\u001b[39;49mconfig[\u001b[39m\"\u001b[39;49m\u001b[39mhidden_size\u001b[39;49m\u001b[39m\"\u001b[39;49m], dropout\u001b[39m=\u001b[39;49mconfig[\u001b[39m\"\u001b[39;49m\u001b[39mdropout\u001b[39;49m\u001b[39m\"\u001b[39;49m]),  \u001b[39m#  use an attention layer\u001b[39;00m\n\u001b[1;32m      <a href='vscode-notebook-cell://ssh-remote%2Bml-lab-499b0cc0-f0fa-444d-a905-b2d2bead7477.westeurope.cloudapp.azure.com/home/mladmin/code/examen/notebooks/02_style%20detection_custom.ipynb#ch0000046vscode-remote?line=7'>8</a>\u001b[0m         tl\u001b[39m.\u001b[39mMean(axis\u001b[39m=\u001b[39m\u001b[39m1\u001b[39m), \u001b[39m#  take mean values of groups of words, hopefully this generalizing will fix the overfitting we found in the last question\u001b[39;00m\n\u001b[1;32m      <a href='vscode-notebook-cell://ssh-remote%2Bml-lab-499b0cc0-f0fa-444d-a905-b2d2bead7477.westeurope.cloudapp.azure.com/home/mladmin/code/examen/notebooks/02_style%20detection_custom.ipynb#ch0000046vscode-remote?line=8'>9</a>\u001b[0m         tl\u001b[39m.\u001b[39mDense(config[\u001b[39m\"\u001b[39m\u001b[39moutput_size\u001b[39m\u001b[39m\"\u001b[39m]))\n\u001b[1;32m     <a href='vscode-notebook-cell://ssh-remote%2Bml-lab-499b0cc0-f0fa-444d-a905-b2d2bead7477.westeurope.cloudapp.azure.com/home/mladmin/code/examen/notebooks/02_style%20detection_custom.ipynb#ch0000046vscode-remote?line=9'>10</a>\u001b[0m     \u001b[39mreturn\u001b[39;00m model\n",
      "File \u001b[0;32m~/.cache/pypoetry/virtualenvs/exam-22-AI0Wnuoo-py3.9/lib/python3.9/site-packages/gin/config.py:1605\u001b[0m, in \u001b[0;36m_make_gin_wrapper.<locals>.gin_wrapper\u001b[0;34m(*args, **kwargs)\u001b[0m\n\u001b[1;32m   1603\u001b[0m scope_info \u001b[39m=\u001b[39m \u001b[39m\"\u001b[39m\u001b[39m in scope \u001b[39m\u001b[39m'\u001b[39m\u001b[39m{}\u001b[39;00m\u001b[39m'\u001b[39m\u001b[39m\"\u001b[39m\u001b[39m.\u001b[39mformat(scope_str) \u001b[39mif\u001b[39;00m scope_str \u001b[39melse\u001b[39;00m \u001b[39m'\u001b[39m\u001b[39m'\u001b[39m\n\u001b[1;32m   1604\u001b[0m err_str \u001b[39m=\u001b[39m err_str\u001b[39m.\u001b[39mformat(name, fn_or_cls, scope_info)\n\u001b[0;32m-> 1605\u001b[0m utils\u001b[39m.\u001b[39;49maugment_exception_message_and_reraise(e, err_str)\n",
      "File \u001b[0;32m~/.cache/pypoetry/virtualenvs/exam-22-AI0Wnuoo-py3.9/lib/python3.9/site-packages/gin/utils.py:41\u001b[0m, in \u001b[0;36maugment_exception_message_and_reraise\u001b[0;34m(exception, message)\u001b[0m\n\u001b[1;32m     39\u001b[0m proxy \u001b[39m=\u001b[39m ExceptionProxy()\n\u001b[1;32m     40\u001b[0m ExceptionProxy\u001b[39m.\u001b[39m\u001b[39m__qualname__\u001b[39m \u001b[39m=\u001b[39m \u001b[39mtype\u001b[39m(exception)\u001b[39m.\u001b[39m\u001b[39m__qualname__\u001b[39m\n\u001b[0;32m---> 41\u001b[0m \u001b[39mraise\u001b[39;00m proxy\u001b[39m.\u001b[39mwith_traceback(exception\u001b[39m.\u001b[39m__traceback__) \u001b[39mfrom\u001b[39;00m \u001b[39mNone\u001b[39m\n",
      "File \u001b[0;32m~/.cache/pypoetry/virtualenvs/exam-22-AI0Wnuoo-py3.9/lib/python3.9/site-packages/gin/config.py:1582\u001b[0m, in \u001b[0;36m_make_gin_wrapper.<locals>.gin_wrapper\u001b[0;34m(*args, **kwargs)\u001b[0m\n\u001b[1;32m   1579\u001b[0m new_kwargs\u001b[39m.\u001b[39mupdate(kwargs)\n\u001b[1;32m   1581\u001b[0m \u001b[39mtry\u001b[39;00m:\n\u001b[0;32m-> 1582\u001b[0m   \u001b[39mreturn\u001b[39;00m fn(\u001b[39m*\u001b[39;49mnew_args, \u001b[39m*\u001b[39;49m\u001b[39m*\u001b[39;49mnew_kwargs)\n\u001b[1;32m   1583\u001b[0m \u001b[39mexcept\u001b[39;00m \u001b[39mException\u001b[39;00m \u001b[39mas\u001b[39;00m e:  \u001b[39m# pylint: disable=broad-except\u001b[39;00m\n\u001b[1;32m   1584\u001b[0m   err_str \u001b[39m=\u001b[39m \u001b[39m'\u001b[39m\u001b[39m'\u001b[39m\n",
      "File \u001b[0;32m~/.cache/pypoetry/virtualenvs/exam-22-AI0Wnuoo-py3.9/lib/python3.9/site-packages/gin/config.py:516\u001b[0m, in \u001b[0;36m_make_meta_call_wrapper.<locals>.meta_call_wrapper\u001b[0;34m(new_cls, *args, **kwargs)\u001b[0m\n\u001b[1;32m    514\u001b[0m \u001b[39mif\u001b[39;00m new_cls\u001b[39m.\u001b[39m\u001b[39m__bases__\u001b[39m \u001b[39m==\u001b[39m (\u001b[39mcls\u001b[39m,):\n\u001b[1;32m    515\u001b[0m   new_cls \u001b[39m=\u001b[39m \u001b[39mcls\u001b[39m\n\u001b[0;32m--> 516\u001b[0m \u001b[39mreturn\u001b[39;00m cls_meta\u001b[39m.\u001b[39;49m\u001b[39m__call__\u001b[39;49m(new_cls, \u001b[39m*\u001b[39;49margs, \u001b[39m*\u001b[39;49m\u001b[39m*\u001b[39;49mkwargs)\n",
      "File \u001b[0;32m~/.cache/pypoetry/virtualenvs/exam-22-AI0Wnuoo-py3.9/lib/python3.9/site-packages/trax/layers/assert_shape.py:114\u001b[0m, in \u001b[0;36massert_shape.<locals>.wrap_cls.<locals>.init_wrapper\u001b[0;34m(self, *args, **kwargs)\u001b[0m\n\u001b[1;32m    111\u001b[0m after_assert \u001b[39m=\u001b[39m AssertShape(after_spec,\n\u001b[1;32m    112\u001b[0m                            message\u001b[39m=\u001b[39mmessage \u001b[39m+\u001b[39m \u001b[39m'\u001b[39m\u001b[39m function output\u001b[39m\u001b[39m'\u001b[39m)\n\u001b[1;32m    113\u001b[0m after_assert\u001b[39m.\u001b[39m_create_link(before_assert)  \u001b[39m# pylint: disable=protected-access\u001b[39;00m\n\u001b[0;32m--> 114\u001b[0m out \u001b[39m=\u001b[39m init(\u001b[39mself\u001b[39;49m, \u001b[39m*\u001b[39;49margs, \u001b[39m*\u001b[39;49m\u001b[39m*\u001b[39;49mkwargs)\n\u001b[1;32m    115\u001b[0m \u001b[39mself\u001b[39m\u001b[39m.\u001b[39m_before_assert_fun \u001b[39m=\u001b[39m before_assert  \u001b[39m# pylint: disable=protected-access\u001b[39;00m\n\u001b[1;32m    116\u001b[0m \u001b[39mself\u001b[39m\u001b[39m.\u001b[39m_after_assert_fun \u001b[39m=\u001b[39m after_assert  \u001b[39m# pylint: disable=protected-access\u001b[39;00m\n",
      "\u001b[0;31mTypeError\u001b[0m: __init__() got an unexpected keyword argument 'd_feature'\n  In call to configurable 'DotProductCausalAttention' (<class 'trax.layers.attention.DotProductCausalAttention'>)"
     ]
    }
   ],
   "source": [
    "from torch import dropout\n",
    "\n",
    "\n",
    "def createCustModel3(config: Dict):\n",
    "    model = tl.Serial(\n",
    "        tl.Embedding(vocab_size=config[\"vocab\"], d_feature=config[\"hidden_size\"]), #MAP to vectors\n",
    "        tl.DotProductCausalAttention(d_feature=config[\"hidden_size\"], dropout=config[\"dropout\"]),  #  use an attention layer\n",
    "        tl.Mean(axis=1), #  take mean values of groups of words, hopefully this generalizing will fix the overfitting we found in the last question\n",
    "        tl.Dense(config[\"output_size\"]))\n",
    "    return model\n",
    "model = createCustModel3(config)"
   ]
  },
  {
   "cell_type": "code",
   "execution_count": 19,
   "metadata": {},
   "outputs": [],
   "source": [
    "#model = tl.Serial(\n",
    "#    tl.Embedding(vocab_size=8192, d_feature=50),\n",
    "#    tl.Mean(axis=1),\n",
    "#    tl.Dense(4),\n",
    "#    tl.LogSoftmax()\n",
    "#)"
   ]
  },
  {
   "cell_type": "code",
   "execution_count": 33,
   "metadata": {},
   "outputs": [
    {
     "name": "stdout",
     "output_type": "stream",
     "text": [
      "layer                   input                dtype     output               dtype \n"
     ]
    },
    {
     "ename": "AttributeError",
     "evalue": "'tuple' object has no attribute 'shape'",
     "output_type": "error",
     "traceback": [
      "\u001b[0;31m---------------------------------------------------------------------------\u001b[0m",
      "\u001b[0;31mAttributeError\u001b[0m                            Traceback (most recent call last)",
      "\u001b[1;32m/home/mladmin/code/examen/notebooks/02_style detection_custom.ipynb Cell 35'\u001b[0m in \u001b[0;36m<cell line: 2>\u001b[0;34m()\u001b[0m\n\u001b[1;32m      <a href='vscode-notebook-cell://ssh-remote%2Bml-lab-499b0cc0-f0fa-444d-a905-b2d2bead7477.westeurope.cloudapp.azure.com/home/mladmin/code/examen/notebooks/02_style%20detection_custom.ipynb#ch0000047vscode-remote?line=0'>1</a>\u001b[0m \u001b[39mfrom\u001b[39;00m \u001b[39msrc\u001b[39;00m\u001b[39m.\u001b[39;00m\u001b[39mmodels\u001b[39;00m\u001b[39m.\u001b[39;00m\u001b[39mtraxmodel\u001b[39;00m \u001b[39mimport\u001b[39;00m summary\n\u001b[0;32m----> <a href='vscode-notebook-cell://ssh-remote%2Bml-lab-499b0cc0-f0fa-444d-a905-b2d2bead7477.westeurope.cloudapp.azure.com/home/mladmin/code/examen/notebooks/02_style%20detection_custom.ipynb#ch0000047vscode-remote?line=1'>2</a>\u001b[0m summary(model,X)\n",
      "File \u001b[0;32m~/code/examen/notebooks/../src/models/traxmodel.py:34\u001b[0m, in \u001b[0;36msummary\u001b[0;34m(model, X, init, counter)\u001b[0m\n\u001b[1;32m     32\u001b[0m     \u001b[39mcontinue\u001b[39;00m\n\u001b[1;32m     33\u001b[0m \u001b[39melif\u001b[39;00m name \u001b[39m==\u001b[39m \u001b[39m\"\u001b[39m\u001b[39mSerial\u001b[39m\u001b[39m\"\u001b[39m:\n\u001b[0;32m---> 34\u001b[0m     output \u001b[39m=\u001b[39m summary(sub, output, init \u001b[39m+\u001b[39;49m \u001b[39m1\u001b[39;49m, counter)\n\u001b[1;32m     35\u001b[0m \u001b[39melse\u001b[39;00m:\n\u001b[1;32m     36\u001b[0m     output \u001b[39m=\u001b[39m sub\u001b[39m.\u001b[39moutput_signature(\u001b[39minput\u001b[39m)\n",
      "File \u001b[0;32m~/code/examen/notebooks/../src/models/traxmodel.py:34\u001b[0m, in \u001b[0;36msummary\u001b[0;34m(model, X, init, counter)\u001b[0m\n\u001b[1;32m     32\u001b[0m     \u001b[39mcontinue\u001b[39;00m\n\u001b[1;32m     33\u001b[0m \u001b[39melif\u001b[39;00m name \u001b[39m==\u001b[39m \u001b[39m\"\u001b[39m\u001b[39mSerial\u001b[39m\u001b[39m\"\u001b[39m:\n\u001b[0;32m---> 34\u001b[0m     output \u001b[39m=\u001b[39m summary(sub, output, init \u001b[39m+\u001b[39;49m \u001b[39m1\u001b[39;49m, counter)\n\u001b[1;32m     35\u001b[0m \u001b[39melse\u001b[39;00m:\n\u001b[1;32m     36\u001b[0m     output \u001b[39m=\u001b[39m sub\u001b[39m.\u001b[39moutput_signature(\u001b[39minput\u001b[39m)\n",
      "File \u001b[0;32m~/code/examen/notebooks/../src/models/traxmodel.py:38\u001b[0m, in \u001b[0;36msummary\u001b[0;34m(model, X, init, counter)\u001b[0m\n\u001b[1;32m     35\u001b[0m \u001b[39melse\u001b[39;00m:\n\u001b[1;32m     36\u001b[0m     output \u001b[39m=\u001b[39m sub\u001b[39m.\u001b[39moutput_signature(\u001b[39minput\u001b[39m)\n\u001b[1;32m     37\u001b[0m     \u001b[39mprint\u001b[39m(\n\u001b[0;32m---> 38\u001b[0m         \u001b[39mf\u001b[39m\u001b[39m\"\u001b[39m\u001b[39m(\u001b[39m\u001b[39m{\u001b[39;00mcounter\u001b[39m}\u001b[39;00m\u001b[39m) \u001b[39m\u001b[39m{\u001b[39;00m\u001b[39mstr\u001b[39m(sub\u001b[39m.\u001b[39mname)\u001b[39m:\u001b[39;00m\u001b[39m<19\u001b[39m\u001b[39m}\u001b[39;00m\u001b[39m \u001b[39m\u001b[39m{\u001b[39;00m\u001b[39mstr\u001b[39m(\u001b[39minput\u001b[39m\u001b[39m.\u001b[39mshape)\u001b[39m:\u001b[39;00m\u001b[39m<19\u001b[39m\u001b[39m}\u001b[39;00m\u001b[39m(\u001b[39m\u001b[39m{\u001b[39;00m\u001b[39mstr\u001b[39m(\u001b[39minput\u001b[39m\u001b[39m.\u001b[39mdtype)\u001b[39m:\u001b[39;00m\u001b[39m^7\u001b[39m\u001b[39m}\u001b[39;00m\u001b[39m) | \u001b[39m\u001b[39m{\u001b[39;00m\u001b[39mstr\u001b[39m(output\u001b[39m.\u001b[39mshape)\u001b[39m:\u001b[39;00m\u001b[39m<19\u001b[39m\u001b[39m}\u001b[39;00m\u001b[39m(\u001b[39m\u001b[39m{\u001b[39;00m\u001b[39mstr\u001b[39m(output\u001b[39m.\u001b[39mdtype)\u001b[39m:\u001b[39;00m\u001b[39m^7\u001b[39m\u001b[39m}\u001b[39;00m\u001b[39m)\u001b[39m\u001b[39m\"\u001b[39m  \u001b[39m# noqa E501\u001b[39;00m\n\u001b[1;32m     39\u001b[0m     )\n\u001b[1;32m     40\u001b[0m \u001b[39minput\u001b[39m \u001b[39m=\u001b[39m output\n\u001b[1;32m     41\u001b[0m counter \u001b[39m+\u001b[39m\u001b[39m=\u001b[39m \u001b[39m1\u001b[39m\n",
      "\u001b[0;31mAttributeError\u001b[0m: 'tuple' object has no attribute 'shape'"
     ]
    }
   ],
   "source": [
    "from src.models.traxmodel import summary\n",
    "summary(model,X)"
   ]
  },
  {
   "cell_type": "code",
   "execution_count": 38,
   "metadata": {},
   "outputs": [
    {
     "data": {
      "text/plain": [
       "DeviceArray([[ 0.05987806, -0.07146724,  0.03740717,  0.00647517],\n",
       "             [ 0.06435186, -0.06439573,  0.01864751, -0.02140737],\n",
       "             [ 0.09703638, -0.10212536,  0.04552948,  0.03539896],\n",
       "             [ 0.11896683, -0.14040262,  0.03631809,  0.01498687],\n",
       "             [ 0.10195363, -0.13487253,  0.04670405,  0.03328958],\n",
       "             [ 0.123125  , -0.08799148,  0.03265454,  0.04597851],\n",
       "             [ 0.11343179, -0.14869706,  0.04761421,  0.04567854],\n",
       "             [ 0.09762984, -0.09023017,  0.03116635,  0.0110537 ],\n",
       "             [ 0.06595419, -0.07868505, -0.00846519,  0.00692413],\n",
       "             [ 0.00841197, -0.00358623, -0.00811617,  0.03474265],\n",
       "             [ 0.1263092 , -0.12746558,  0.0402833 ,  0.02510999],\n",
       "             [ 0.10825641, -0.11145019,  0.0303273 ,  0.03073984],\n",
       "             [ 0.13502723, -0.15743598,  0.044555  ,  0.04535793],\n",
       "             [ 0.0998652 , -0.10309493,  0.05652996,  0.03520417],\n",
       "             [ 0.09567947, -0.08366266,  0.03926584,  0.02935827],\n",
       "             [ 0.03646693, -0.00878709,  0.00854183,  0.00892474],\n",
       "             [ 0.07118703, -0.06454141, -0.01673311,  0.00595708],\n",
       "             [ 0.05768525, -0.1027974 , -0.01423976,  0.04397211],\n",
       "             [ 0.07151785, -0.09898903,  0.02305039,  0.02816622],\n",
       "             [ 0.11812892, -0.118117  ,  0.02393964,  0.03636018],\n",
       "             [ 0.08544883, -0.10329481,  0.02575936,  0.02878335],\n",
       "             [ 0.07213012, -0.08173535,  0.02315883, -0.01331184],\n",
       "             [ 0.1032865 , -0.12688817,  0.04003123,  0.02937577],\n",
       "             [ 0.13105541, -0.10622588,  0.05658637,  0.0285174 ],\n",
       "             [ 0.12173489, -0.13942267,  0.0544751 ,  0.0395168 ],\n",
       "             [ 0.12630385, -0.13316733,  0.04553828,  0.02880061],\n",
       "             [ 0.10945436, -0.14847322,  0.04504377,  0.0354722 ],\n",
       "             [ 0.10136391, -0.09366493,  0.01306175, -0.00895612],\n",
       "             [ 0.10095552, -0.09470525,  0.015977  ,  0.036996  ],\n",
       "             [ 0.12005763, -0.12655236,  0.02419066,  0.03327555],\n",
       "             [ 0.08672155, -0.09564248,  0.01859068,  0.03129738],\n",
       "             [ 0.04060284, -0.08344238,  0.04025799,  0.0229828 ]],            dtype=float32)"
      ]
     },
     "execution_count": 38,
     "metadata": {},
     "output_type": "execute_result"
    }
   ],
   "source": [
    "\n",
    "\n",
    "# let's test a single prediction\n",
    "model.init_weights_and_state(X)\n",
    "ytest = model(X)\n",
    "ytest"
   ]
  },
  {
   "cell_type": "code",
   "execution_count": 91,
   "metadata": {},
   "outputs": [
    {
     "name": "stderr",
     "output_type": "stream",
     "text": [
      "2022-06-27 11:39:28.973 | INFO     | src.data.data_tools:dir_add_timestamp:78 - Logging to ../tune/20220627-1139\n",
      "/home/mladmin/.cache/pypoetry/virtualenvs/exam-22-AI0Wnuoo-py3.9/lib/python3.9/site-packages/jax/_src/lib/xla_bridge.py:514: UserWarning: jax.host_count has been renamed to jax.process_count. This alias will eventually be removed; please update your code.\n",
      "  warnings.warn(\n"
     ]
    }
   ],
   "source": [
    "from trax.supervised import training\n",
    "import trax\n",
    "from trax import layers as tl\n",
    "from trax.layers import combinators as cb\n",
    "from trax.layers.assert_shape import assert_shape\n",
    "\n",
    "log_dir = \"../tune\"\n",
    "log_dir = data_tools.dir_add_timestamp(log_dir)\n",
    "\n",
    "write_config(log_dir, config, model)\n",
    "\n",
    "train_task = training.TrainTask(\n",
    "    labeled_data=trainpipe,\n",
    "    loss_layer=tl.CategoryCrossEntropy(),\n",
    "    optimizer=trax.optimizers.Adam(),\n",
    "    lr_schedule=lr, # use the lossrate scheduler\n",
    "    n_steps_per_checkpoint=100, \n",
    ")\n",
    "\n",
    "eval_task = training.EvalTask(\n",
    "    labeled_data=testpipe, metrics=[tl.CategoryAccuracy(), tl.CategoryCrossEntropy()], n_eval_batches=25\n",
    ")\n",
    "\n",
    "loop = training.Loop(\n",
    "    model,\n",
    "    train_task,\n",
    "    eval_tasks=[eval_task],\n",
    "    output_dir=log_dir,\n",
    ")"
   ]
  },
  {
   "cell_type": "code",
   "execution_count": 92,
   "metadata": {},
   "outputs": [
    {
     "name": "stderr",
     "output_type": "stream",
     "text": [
      "/home/mladmin/.cache/pypoetry/virtualenvs/exam-22-AI0Wnuoo-py3.9/lib/python3.9/site-packages/trax/layers/base.py:851: FutureWarning: GzipFile was opened for writing, but this will change in future Python releases.  Specify the mode argument for opening it for writing.\n",
      "  with gzip.GzipFile(fileobj=f, compresslevel=compresslevel) as gzipf:\n"
     ]
    },
    {
     "name": "stdout",
     "output_type": "stream",
     "text": [
      "\n",
      "Step      1: Total number of trainable weights: 2603524\n",
      "Step      1: Ran 1 train steps in 1.94 secs\n",
      "Step      1: train CategoryCrossEntropy |  1.37543964\n"
     ]
    },
    {
     "name": "stderr",
     "output_type": "stream",
     "text": [
      "/home/mladmin/.cache/pypoetry/virtualenvs/exam-22-AI0Wnuoo-py3.9/lib/python3.9/site-packages/trax/supervised/training.py:1249: FutureWarning: GzipFile was opened for writing, but this will change in future Python releases.  Specify the mode argument for opening it for writing.\n",
      "  with gzip_lib.GzipFile(fileobj=f, compresslevel=2) as gzipf:\n"
     ]
    },
    {
     "name": "stdout",
     "output_type": "stream",
     "text": [
      "Step      1: eval      CategoryAccuracy |  0.29750000\n",
      "Step      1: eval  CategoryCrossEntropy |  1.56931018\n",
      "\n",
      "Step    100: Ran 99 train steps in 41.81 secs\n",
      "Step    100: train CategoryCrossEntropy |  1.01766229\n",
      "Step    100: eval      CategoryAccuracy |  0.80375000\n",
      "Step    100: eval  CategoryCrossEntropy |  0.55355051\n",
      "\n",
      "Step    200: Ran 100 train steps in 17.84 secs\n",
      "Step    200: train CategoryCrossEntropy |  0.41064185\n",
      "Step    200: eval      CategoryAccuracy |  0.89000000\n",
      "Step    200: eval  CategoryCrossEntropy |  0.31101728\n",
      "\n",
      "Step    300: Ran 100 train steps in 10.85 secs\n",
      "Step    300: train CategoryCrossEntropy |  0.31279036\n",
      "Step    300: eval      CategoryAccuracy |  0.89375000\n",
      "Step    300: eval  CategoryCrossEntropy |  0.27535900\n",
      "\n",
      "Step    400: Ran 100 train steps in 6.00 secs\n",
      "Step    400: train CategoryCrossEntropy |  0.21884224\n",
      "Step    400: eval      CategoryAccuracy |  0.90125000\n",
      "Step    400: eval  CategoryCrossEntropy |  0.24878328\n",
      "\n",
      "Step    500: Ran 100 train steps in 7.34 secs\n",
      "Step    500: train CategoryCrossEntropy |  0.14087865\n",
      "Step    500: eval      CategoryAccuracy |  0.90625000\n",
      "Step    500: eval  CategoryCrossEntropy |  0.26183659\n",
      "\n",
      "Step    600: Ran 100 train steps in 5.71 secs\n",
      "Step    600: train CategoryCrossEntropy |  0.15701908\n",
      "Step    600: eval      CategoryAccuracy |  0.92500000\n",
      "Step    600: eval  CategoryCrossEntropy |  0.22824479\n"
     ]
    },
    {
     "ename": "",
     "evalue": "",
     "output_type": "error",
     "traceback": [
      "\u001b[1;31mCanceled future for execute_request message before replies were done"
     ]
    },
    {
     "ename": "",
     "evalue": "",
     "output_type": "error",
     "traceback": [
      "\u001b[1;31mThe Kernel crashed while executing code in the the current cell or a previous cell. Please review the code in the cell(s) to identify a possible cause of the failure. Click <a href='https://aka.ms/vscodeJupyterKernelCrash'>here</a> for more info. View Jupyter <a href='command:jupyter.viewOutput'>log</a> for further details."
     ]
    }
   ],
   "source": [
    "loop.run(1000)"
   ]
  },
  {
   "cell_type": "code",
   "execution_count": 65,
   "metadata": {},
   "outputs": [
    {
     "name": "stdout",
     "output_type": "stream",
     "text": [
      "1\n",
      "1\n"
     ]
    }
   ],
   "source": [
    "# test a prediction\n",
    "X, y = next(trainpipe)\n",
    "\n",
    "yhat = model(X)\n",
    "print(y[0])\n",
    "print(yhat[0].argmax())\n"
   ]
  },
  {
   "cell_type": "code",
   "execution_count": 80,
   "metadata": {},
   "outputs": [],
   "source": [
    "X, y = next(testpipe)\n",
    "yhat = model(X)\n",
    "\n",
    "for i in range(0,len(y)):\n",
    "    yhati = yhat[i].argmax()\n",
    "    if y[i] != yhati:\n",
    "        print(str(y[i]) + \"-\" + str(yhati))\n"
   ]
  },
  {
   "cell_type": "markdown",
   "metadata": {},
   "source": [
    "Let's create a new confusion matrix to see how it performs."
   ]
  },
  {
   "cell_type": "code",
   "execution_count": 87,
   "metadata": {},
   "outputs": [
    {
     "name": "stderr",
     "output_type": "stream",
     "text": [
      "/home/mladmin/.cache/pypoetry/virtualenvs/exam-22-AI0Wnuoo-py3.9/lib/python3.9/site-packages/seaborn/rcmod.py:400: DeprecationWarning: distutils Version classes are deprecated. Use packaging.version instead.\n",
      "  if LooseVersion(mpl.__version__) >= \"3.0\":\n",
      "/home/mladmin/.cache/pypoetry/virtualenvs/exam-22-AI0Wnuoo-py3.9/lib/python3.9/site-packages/setuptools/_distutils/version.py:351: DeprecationWarning: distutils Version classes are deprecated. Use packaging.version instead.\n",
      "  other = LooseVersion(other)\n"
     ]
    },
    {
     "data": {
      "text/plain": [
       "<AxesSubplot:xlabel='Predicted', ylabel='Target'>"
      ]
     },
     "execution_count": 87,
     "metadata": {},
     "output_type": "execute_result"
    },
    {
     "data": {
      "image/png": "[encoded data removed]",
      "text/plain": [
       "<Figure size 1080x576 with 2 Axes>"
      ]
     },
     "metadata": {},
     "output_type": "display_data"
    }
   ],
   "source": [
    "import matplotlib.pyplot as plt\n",
    "%matplotlib inline\n",
    "from sklearn.metrics import confusion_matrix\n",
    "sns.set(rc = {'figure.figsize':(15,8)})\n",
    "y_true = []\n",
    "y_pred = []\n",
    "\n",
    "for _ in range(10):\n",
    "    X, y = next(trainpipe)\n",
    "    yhat = model(X)\n",
    "    predlist = list()\n",
    "    truelist = list()\n",
    "    for ytrue in y:\n",
    "        truelist.append(int(ytrue))\n",
    "    for yh1 in yhat:\n",
    "        predlist.append(int(yh1.argmax()))    \n",
    "    y_pred.append(predlist)\n",
    "    y_true.append(truelist)\n",
    "\n",
    "\n",
    "yhat = [x for y in y_pred for x in y]\n",
    "y = [x for y in y_true for x in y]\n",
    "\n",
    "cfm = confusion_matrix(y, yhat)\n",
    "cfm_norm = cfm / np.sum(cfm, axis=1, keepdims=True)\n",
    "plot = sns.heatmap(cfm_norm, annot=cfm_norm, fmt=\".3f\")\n",
    "plot.set(xlabel=\"Predicted\", ylabel=\"Target\")\n",
    "plot"
   ]
  },
  {
   "cell_type": "markdown",
   "metadata": {},
   "source": [
    "Both the GRU and LSTM models perform much better then the original"
   ]
  },
  {
   "cell_type": "markdown",
   "metadata": {},
   "source": []
  }
 ],
 "metadata": {
  "kernelspec": {
   "display_name": "Python 3.9.12 ('exam-22-AI0Wnuoo-py3.9': venv)",
   "language": "python",
   "name": "python3"
  },
  "language_info": {
   "codemirror_mode": {
    "name": "ipython",
    "version": 3
   },
   "file_extension": ".py",
   "mimetype": "text/x-python",
   "name": "python",
   "nbconvert_exporter": "python",
   "pygments_lexer": "ipython3",
   "version": "3.9.12"
  },
  "orig_nbformat": 4,
  "vscode": {
   "interpreter": {
    "hash": "6d57a7918acd5cf669aaceacf2060ac2c2f5aaba7f78c29525f8bc7602b3692a"
   }
  }
 },
 "nbformat": 4,
 "nbformat_minor": 2
}
